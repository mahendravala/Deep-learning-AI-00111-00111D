{
  "nbformat": 4,
  "nbformat_minor": 0,
  "metadata": {
    "kernelspec": {
      "display_name": "Python 3",
      "language": "python",
      "name": "python3"
    },
    "language_info": {
      "codemirror_mode": {
        "name": "ipython",
        "version": 3
      },
      "file_extension": ".py",
      "mimetype": "text/x-python",
      "name": "python",
      "nbconvert_exporter": "python",
      "pygments_lexer": "ipython3",
      "version": "3.7.4"
    },
    "colab": {
      "name": "Subjective Assignment - 6 - Numpy 2.ipynb",
      "provenance": [],
      "collapsed_sections": [],
      "include_colab_link": true
    }
  },
  "cells": [
    {
      "cell_type": "markdown",
      "metadata": {
        "id": "view-in-github",
        "colab_type": "text"
      },
      "source": [
        "<a href=\"https://colab.research.google.com/github/mahendravala/Deep-learning-AI-00111-00111D/blob/master/Subjective_Assignment_6_Numpy_2.ipynb\" target=\"_parent\"><img src=\"https://colab.research.google.com/assets/colab-badge.svg\" alt=\"Open In Colab\"/></a>"
      ]
    },
    {
      "cell_type": "markdown",
      "metadata": {
        "id": "uz3jtA3QLg4G",
        "colab_type": "text"
      },
      "source": [
        "# Assignment"
      ]
    },
    {
      "cell_type": "markdown",
      "metadata": {
        "id": "vmaSnmreLg4N",
        "colab_type": "text"
      },
      "source": [
        "Q1. Write the NumPy program to create an array of ones and an array\n",
        "of zeros?\n",
        "\n",
        "    Expected OutputCreate an array of zeros\n",
        "    Default type is float\n",
        "    [[ 0. 0.]]\n",
        "    Type changes to int\n",
        "    [[0 0]]\n",
        "    Create an array of ones\n",
        "    Default type is float\n",
        "    [[ 1. 1.]]\n",
        "    Type changes to int\n",
        "    [[1 1]]"
      ]
    },
    {
      "cell_type": "code",
      "metadata": {
        "id": "XhMdJ3M9Lg4O",
        "colab_type": "code",
        "outputId": "dc2c352a-08c0-4e4b-ef2f-a5081f8bfb8a",
        "colab": {
          "base_uri": "https://localhost:8080/",
          "height": 85
        }
      },
      "source": [
        "import numpy as np\n",
        "a = np.array(np.zeros(2))\n",
        "b = a.astype(int)\n",
        "print(a)\n",
        "print(b)\n",
        "c = np.array(np.ones(2))\n",
        "d = c.astype(int)\n",
        "print(c)\n",
        "print(d)\n"
      ],
      "execution_count": 1,
      "outputs": [
        {
          "output_type": "stream",
          "text": [
            "[0. 0.]\n",
            "[0 0]\n",
            "[1. 1.]\n",
            "[1 1]\n"
          ],
          "name": "stdout"
        }
      ]
    },
    {
      "cell_type": "markdown",
      "metadata": {
        "id": "vQuNahaSLg4U",
        "colab_type": "text"
      },
      "source": [
        "Q2. Write the NumPy program to change the dimension of an array?\n",
        "\n",
        "    Expected Output6 rows and 0 columns\n",
        "    (6,)\n",
        "    (3, 3) -> 3 rows and 3 columns\n",
        "    [[1 2 3]\n",
        "    [4 5 6]\n",
        "    [7 8 9]]\n",
        "    Change array shape to (3, 3) -> 3 rows and 3 columns\n",
        "    [[1 2 3]\n",
        "    [4 5 6]\n",
        "    [7 8 9]]"
      ]
    },
    {
      "cell_type": "code",
      "metadata": {
        "id": "kbwXQHQ4Lg4V",
        "colab_type": "code",
        "outputId": "072542e8-f29a-4077-bb52-66a280d982ce",
        "colab": {
          "base_uri": "https://localhost:8080/",
          "height": 170
        }
      },
      "source": [
        "import numpy as np\n",
        "one_d_array = np.array([1,2,3,4,5,6])\n",
        "print(one_d_array.shape)\n",
        "two_d_array = np.array([1,2,3,4,5,6,7,8,9])\n",
        "two_d_array = np.reshape(two_d_array,(-1,3))\n",
        "print(two_d_array.shape)\n",
        "print(two_d_array)\n",
        "two_d_array = np.reshape(two_d_array, (3,3))\n",
        "print(two_d_array.shape)\n",
        "print(two_d_array)\n"
      ],
      "execution_count": 2,
      "outputs": [
        {
          "output_type": "stream",
          "text": [
            "(6,)\n",
            "(3, 3)\n",
            "[[1 2 3]\n",
            " [4 5 6]\n",
            " [7 8 9]]\n",
            "(3, 3)\n",
            "[[1 2 3]\n",
            " [4 5 6]\n",
            " [7 8 9]]\n"
          ],
          "name": "stdout"
        }
      ]
    },
    {
      "cell_type": "markdown",
      "metadata": {
        "id": "Ur7kLvAxLg4Y",
        "colab_type": "text"
      },
      "source": [
        "Q3. Write the NumPy program to create a new shape to an array\n",
        "without changing its data ?\n",
        "\n",
        "    Reshape 3x2-\n",
        "    [[1 2]\n",
        "    [3 4]\n",
        "    [5 6]]\n",
        "    Reshape 2x3-\n",
        "    [[1 2 3]\n",
        "    [4 5 6]]"
      ]
    },
    {
      "cell_type": "code",
      "metadata": {
        "id": "mQ7XI6cGLg4a",
        "colab_type": "code",
        "outputId": "8cd8f57f-8caf-440e-849d-a51055b9434b",
        "colab": {
          "base_uri": "https://localhost:8080/",
          "height": 136
        }
      },
      "source": [
        "import numpy as np\n",
        "two_d_array = np.array([[1,2],[3,4],[5,6]])\n",
        "print(two_d_array.shape)\n",
        "print(two_d_array)\n",
        "two_d_array = np.reshape(two_d_array, (-1,3))\n",
        "print(two_d_array.shape)\n",
        "print(two_d_array)"
      ],
      "execution_count": 3,
      "outputs": [
        {
          "output_type": "stream",
          "text": [
            "(3, 2)\n",
            "[[1 2]\n",
            " [3 4]\n",
            " [5 6]]\n",
            "(2, 3)\n",
            "[[1 2 3]\n",
            " [4 5 6]]\n"
          ],
          "name": "stdout"
        }
      ]
    },
    {
      "cell_type": "markdown",
      "metadata": {
        "id": "72RNgQhKLg4h",
        "colab_type": "text"
      },
      "source": [
        "Q4. Write the NumPy program to create a new array of 3*5, filled with\n",
        "2?\n",
        "\n",
        "    Expected Output-\n",
        "    [[2 2 2 2 2]\n",
        "    [2 2 2 2 2]\n",
        "    [2 2 2 2 2]]\n",
        "    [[2 2 2 2 2]\n",
        "    [2 2 2 2 2]\n",
        "    [2 2 2 2 2]]"
      ]
    },
    {
      "cell_type": "code",
      "metadata": {
        "id": "7kT5sl85Lg4i",
        "colab_type": "code",
        "outputId": "afbb2fd6-e84f-4d1e-ac23-e73afde8f924",
        "colab": {
          "base_uri": "https://localhost:8080/",
          "height": 102
        }
      },
      "source": [
        "import numpy as np\n",
        "new_array = np.array(np.ones(shape=(5,6), dtype=int))\n",
        "print(new_array + 1)"
      ],
      "execution_count": 4,
      "outputs": [
        {
          "output_type": "stream",
          "text": [
            "[[2 2 2 2 2 2]\n",
            " [2 2 2 2 2 2]\n",
            " [2 2 2 2 2 2]\n",
            " [2 2 2 2 2 2]\n",
            " [2 2 2 2 2 2]]\n"
          ],
          "name": "stdout"
        }
      ]
    },
    {
      "cell_type": "markdown",
      "metadata": {
        "id": "oZtw_eAxLg4l",
        "colab_type": "text"
      },
      "source": [
        "Q5. Write the NumPy program to create a 3-D array with ones on a\n",
        "diagonal and zeros elsewhere?\n",
        "\n",
        "    Expected Output-\n",
        "    [[ 1. 0. 0.]\n",
        "    [ 0. 1. 0.]\n",
        "    [ 0. 0. 1.]]"
      ]
    },
    {
      "cell_type": "code",
      "metadata": {
        "id": "gzlhaP1jLg4m",
        "colab_type": "code",
        "outputId": "e1c5cefd-edb4-4573-dcea-d7305d47e2d0",
        "colab": {
          "base_uri": "https://localhost:8080/",
          "height": 68
        }
      },
      "source": [
        "import numpy as np\n",
        "new_array = np.eye(3)\n",
        "print(new_array)"
      ],
      "execution_count": 5,
      "outputs": [
        {
          "output_type": "stream",
          "text": [
            "[[1. 0. 0.]\n",
            " [0. 1. 0.]\n",
            " [0. 0. 1.]]\n"
          ],
          "name": "stdout"
        }
      ]
    },
    {
      "cell_type": "markdown",
      "metadata": {
        "id": "5kRxcqdQLg4v",
        "colab_type": "text"
      },
      "source": [
        "Q6. Write the NumPy program to split an array of 14 elements into the\n",
        "3 arrays and each of which has 2, 4, and 8 elements in original\n",
        "order?\n",
        "\n",
        "    Expected OutputOriginal array- [ 1 2 3 4 5 6 7 8 9 10 11 12 13 14]\n",
        "    After splitting-\n",
        "    [array([1, 2]), array([3, 4, 5, 6]), array([ 7, 8, 9, 10, 11, 12, 13, 14])]"
      ]
    },
    {
      "cell_type": "code",
      "metadata": {
        "id": "GOc2f-R9Lg4w",
        "colab_type": "code",
        "outputId": "b5146f78-f390-4568-8686-b7158b989ea7",
        "colab": {
          "base_uri": "https://localhost:8080/",
          "height": 51
        }
      },
      "source": [
        "import numpy as np\n",
        "one_d_array = np.arange(1,15, dtype=int)\n",
        "print(one_d_array)\n",
        "print(np.split(one_d_array, [2,6]))"
      ],
      "execution_count": 6,
      "outputs": [
        {
          "output_type": "stream",
          "text": [
            "[ 1  2  3  4  5  6  7  8  9 10 11 12 13 14]\n",
            "[array([1, 2]), array([3, 4, 5, 6]), array([ 7,  8,  9, 10, 11, 12, 13, 14])]\n"
          ],
          "name": "stdout"
        }
      ]
    },
    {
      "cell_type": "markdown",
      "metadata": {
        "id": "91v9YkPILg4y",
        "colab_type": "text"
      },
      "source": [
        "Q7. Write the NumPy program to split of an array of shape 4x4 it into\n",
        "two arrays along the second axis ?\n",
        "\n",
        "    Sample array -\n",
        "    [[ 0 1 2 3]\n",
        "    [ 4 5 6 7]\n",
        "    [ 8 9 10 11]\n",
        "    [12 13 14 15]]\n",
        "    Expected Output-\n",
        "    [array([[ 0, 1],\n",
        "    [ 4, 5],\n",
        "    [ 8, 9],\n",
        "    [12, 13]]), array([[ 2, 3],\n",
        "    [ 6, 7],\n",
        "    [10, 11],\n",
        "    [14, 15]]), array([], shape=(4, 0), dtype=int64)]"
      ]
    },
    {
      "cell_type": "code",
      "metadata": {
        "id": "OEcojxGlLg40",
        "colab_type": "code",
        "outputId": "a931ad09-2c99-43d1-f676-cf02af85f58f",
        "colab": {
          "base_uri": "https://localhost:8080/",
          "height": 136
        }
      },
      "source": [
        "import numpy as np\n",
        "fd_array = np.arange(0,16).reshape(4,4)\n",
        "print(np.hsplit(fd_array, [2, 6]))"
      ],
      "execution_count": 7,
      "outputs": [
        {
          "output_type": "stream",
          "text": [
            "[array([[ 0,  1],\n",
            "       [ 4,  5],\n",
            "       [ 8,  9],\n",
            "       [12, 13]]), array([[ 2,  3],\n",
            "       [ 6,  7],\n",
            "       [10, 11],\n",
            "       [14, 15]]), array([], shape=(4, 0), dtype=int64)]\n"
          ],
          "name": "stdout"
        }
      ]
    },
    {
      "cell_type": "markdown",
      "metadata": {
        "id": "EqBWhNxiLg42",
        "colab_type": "text"
      },
      "source": [
        "Q8. Write the NumPy program to create a 5x5 matrix with row values\n",
        "ranging from 0 to 4?\n",
        "\n",
        "    Original array-\n",
        "    [[ 0. 0. 0. 0. 0.]\n",
        "    [ 0. 0. 0. 0. 0.]\n",
        "    [ 0. 0. 0. 0. 0.]\n",
        "    [ 0. 0. 0. 0. 0.]\n",
        "    [ 0. 0. 0. 0. 0.]]\n",
        "    Row values ranging from 0 to 4.\n",
        "    [[ 0. 1. 2. 3. 4.]\n",
        "    [ 0. 1. 2. 3. 4.]\n",
        "    [ 0. 1. 2. 3. 4.]\n",
        "    [ 0. 1. 2. 3. 4.]\n",
        "    [ 0. 1. 2. 3. 4.]]"
      ]
    },
    {
      "cell_type": "code",
      "metadata": {
        "id": "LHSIIjRqLg44",
        "colab_type": "code",
        "outputId": "3887ec9d-8119-4075-dec5-f9aefb206205",
        "colab": {
          "base_uri": "https://localhost:8080/",
          "height": 102
        }
      },
      "source": [
        "import numpy as np\n",
        "new_array = np.array(np.zeros(shape=(5,5), dtype=float))\n",
        "print(new_array + [0,1,2,3,4])"
      ],
      "execution_count": 8,
      "outputs": [
        {
          "output_type": "stream",
          "text": [
            "[[0. 1. 2. 3. 4.]\n",
            " [0. 1. 2. 3. 4.]\n",
            " [0. 1. 2. 3. 4.]\n",
            " [0. 1. 2. 3. 4.]\n",
            " [0. 1. 2. 3. 4.]]\n"
          ],
          "name": "stdout"
        }
      ]
    },
    {
      "cell_type": "markdown",
      "metadata": {
        "id": "tMnnXP6XLg4-",
        "colab_type": "text"
      },
      "source": [
        "Q9. Write the NumPy program to create an array of zeros and three\n",
        "column types (integer, float, character)?\n",
        "\n",
        "    Expected Output-\n",
        "    [(1, 2., b'Albert Einstein') (2, 2., b'Edmond Halley')\n",
        "    (3, 3., b'Gertrude B. Elion')]"
      ]
    },
    {
      "cell_type": "code",
      "metadata": {
        "id": "BUuKyxYhLg5A",
        "colab_type": "code",
        "outputId": "21b28f7c-eed8-4575-a274-a450b9d2912b",
        "colab": {
          "base_uri": "https://localhost:8080/",
          "height": 51
        }
      },
      "source": [
        "import numpy as np\n",
        "arr = np.zeros((3,), dtype=('i4,f4,a40'))\n",
        "new_data = [(1, 2., \"Albert Einstein\"), (2, 2., \"Edmond Halley\"), (3, 3., \"Gertrude B. Elion\")]\n",
        "arr[:] = new_data\n",
        "print(arr)"
      ],
      "execution_count": 9,
      "outputs": [
        {
          "output_type": "stream",
          "text": [
            "[(1, 2., b'Albert Einstein') (2, 2., b'Edmond Halley')\n",
            " (3, 3., b'Gertrude B. Elion')]\n"
          ],
          "name": "stdout"
        }
      ]
    },
    {
      "cell_type": "markdown",
      "metadata": {
        "id": "f0xPtmXBLg5D",
        "colab_type": "text"
      },
      "source": [
        "Q10. Write the NumPy program to remove the negative values in the\n",
        "numpy array with 0?\n",
        "\n",
        "    Expected OutputOriginal array:\n",
        "    [-1 -4 0 2 3 4 5 -6]\n",
        "    Replace the negative values of the said array with 0-\n",
        "    [0 0 0 2 3 4 5 0]"
      ]
    },
    {
      "cell_type": "code",
      "metadata": {
        "id": "r0jCSLsgLg5E",
        "colab_type": "code",
        "outputId": "d8447df6-1db6-4c4b-c18b-3d606dd9dbe2",
        "colab": {
          "base_uri": "https://localhost:8080/",
          "height": 51
        }
      },
      "source": [
        "import numpy as np\n",
        "arr = np.array([-1, -4, 0, 2, 3, 4, 5, -6])\n",
        "print(arr)\n",
        "arr[arr < 0] = 0\n",
        "print(arr)"
      ],
      "execution_count": 10,
      "outputs": [
        {
          "output_type": "stream",
          "text": [
            "[-1 -4  0  2  3  4  5 -6]\n",
            "[0 0 0 2 3 4 5 0]\n"
          ],
          "name": "stdout"
        }
      ]
    },
    {
      "cell_type": "markdown",
      "metadata": {
        "id": "p2vqbQSILg5I",
        "colab_type": "text"
      },
      "source": [
        "Q11. Write the NumPy program to compute the histogram of a set of\n",
        "data?"
      ]
    },
    {
      "cell_type": "code",
      "metadata": {
        "id": "8e1lbX40Lg5J",
        "colab_type": "code",
        "colab": {
          "base_uri": "https://localhost:8080/",
          "height": 265
        },
        "outputId": "c6beda58-1d15-4f43-d224-d870ab0b5146"
      },
      "source": [
        "import numpy as np    \n",
        "import matplotlib.pyplot as plt\n",
        "plt.hist([1, 2, 1, 1, 1, 2 , 2], bins=[0, 1, 2, 3, 5])\n",
        "plt.show()"
      ],
      "execution_count": 11,
      "outputs": [
        {
          "output_type": "display_data",
          "data": {
            "image/png": "[encoded data removed]",
            "text/plain": [
              "<Figure size 432x288 with 1 Axes>"
            ]
          },
          "metadata": {
            "tags": []
          }
        }
      ]
    },
    {
      "cell_type": "markdown",
      "metadata": {
        "id": "j9ZidvqYLg5P",
        "colab_type": "text"
      },
      "source": [
        "Q12. Write the NumPy program to compute the line graph of a set of\n",
        "data?"
      ]
    },
    {
      "cell_type": "code",
      "metadata": {
        "id": "TOOXpriKLg5R",
        "colab_type": "code",
        "colab": {
          "base_uri": "https://localhost:8080/",
          "height": 265
        },
        "outputId": "87990865-5a0d-4559-fc40-0742590ac13d"
      },
      "source": [
        "import numpy as np    \n",
        "import matplotlib.pyplot as plt\n",
        "arr = np.random.randint(1, 100, 20)\n",
        "y, x = np.histogram(arr, bins=np.arange(51))\n",
        "fig, ax = plt.subplots()\n",
        "ax.plot(x[:-1], y)\n",
        "fig.show()\n"
      ],
      "execution_count": 12,
      "outputs": [
        {
          "output_type": "display_data",
          "data": {
            "image/png": "[encoded data removed]",
            "text/plain": [
              "<Figure size 432x288 with 1 Axes>"
            ]
          },
          "metadata": {
            "tags": []
          }
        }
      ]
    },
    {
      "cell_type": "markdown",
      "metadata": {
        "id": "suVMhF0mLg5V",
        "colab_type": "text"
      },
      "source": [
        "Q13. Write the NumPy program to extracts all the elements from second\n",
        "row from given (4x4) array?\n",
        "    \n",
        "    Sample OutputOriginal array-\n",
        "    [[ 0 1 2 3]\n",
        "    [ 4 5 6 7]\n",
        "    [ 8 9 10 11]\n",
        "    [12 13 14 15]]\n",
        "    Extracted data- Second row\n",
        "    [4 5 6 7]"
      ]
    },
    {
      "cell_type": "code",
      "metadata": {
        "id": "Wzf8A6e5Lg5W",
        "colab_type": "code",
        "colab": {
          "base_uri": "https://localhost:8080/",
          "height": 153
        },
        "outputId": "165a68b9-d9b2-4e95-ac08-c81a8bb27a7a"
      },
      "source": [
        "import numpy as np\n",
        "array = np.arange(0,16).reshape((4, 4))\n",
        "print(\"Original array:\")\n",
        "print(array)\n",
        "print(\"-\"*20)\n",
        "print(\"Extracted data\")\n",
        "print(array[1,:])\n"
      ],
      "execution_count": 13,
      "outputs": [
        {
          "output_type": "stream",
          "text": [
            "Original array:\n",
            "[[ 0  1  2  3]\n",
            " [ 4  5  6  7]\n",
            " [ 8  9 10 11]\n",
            " [12 13 14 15]]\n",
            "--------------------\n",
            "Extracted data\n",
            "[4 5 6 7]\n"
          ],
          "name": "stdout"
        }
      ]
    },
    {
      "cell_type": "markdown",
      "metadata": {
        "id": "JC9Ey1v5Lg5d",
        "colab_type": "text"
      },
      "source": [
        "Q14. Write the NumPy program to extract first element of the second\n",
        "row and fourth element of fourth row from a given (4x4) array?\n",
        "\n",
        "    Sample OutputOriginal array-\n",
        "    [[ 0 1 2 3]\n",
        "    [ 4 5 6 7]\n",
        "    [ 8 9 10 11]\n",
        "    [12 13 14 15]]\n",
        "    Extracted data- First element of the second row and fourth element of fourth row\n",
        "    [ 4 15]\n"
      ]
    },
    {
      "cell_type": "code",
      "metadata": {
        "id": "5nbODDkCLg5f",
        "colab_type": "code",
        "colab": {
          "base_uri": "https://localhost:8080/",
          "height": 153
        },
        "outputId": "28c37828-49d6-412f-8cb5-72b9a1f81212"
      },
      "source": [
        "import numpy as np\n",
        "array = np.arange(0,16).reshape((4, 4))\n",
        "print(\"Original array:\")\n",
        "print(array)\n",
        "print(\"-\"*20)\n",
        "print(\"Extracted data: \")\n",
        "print(array[[1,3], [0,3]])\n"
      ],
      "execution_count": 14,
      "outputs": [
        {
          "output_type": "stream",
          "text": [
            "Original array:\n",
            "[[ 0  1  2  3]\n",
            " [ 4  5  6  7]\n",
            " [ 8  9 10 11]\n",
            " [12 13 14 15]]\n",
            "--------------------\n",
            "Extracted data: \n",
            "[ 4 15]\n"
          ],
          "name": "stdout"
        }
      ]
    },
    {
      "cell_type": "markdown",
      "metadata": {
        "id": "VsKfvK-cLg5k",
        "colab_type": "text"
      },
      "source": [
        "Q15. Write the NumPy program to add two arrays A and B of sizes (3,3)\n",
        "and (,3)?\n",
        "\n",
        "    Sample OutputOriginal arrayArray-1\n",
        "    [[1 1 1]\n",
        "    [1 1 1]\n",
        "    [1 1 1]]\n",
        "    Array-2\n",
        "    [0 1 2]\n",
        "    A + B:\n",
        "    [[1 2 3]\n",
        "    [1 2 3]\n",
        "    [1 2 3]]"
      ]
    },
    {
      "cell_type": "code",
      "metadata": {
        "id": "pDspiOYELg5l",
        "colab_type": "code",
        "colab": {
          "base_uri": "https://localhost:8080/",
          "height": 204
        },
        "outputId": "e0dfda29-0711-4e0d-d714-30939175278c"
      },
      "source": [
        "import numpy as np\n",
        "array_1 = np.ones((3,3))\n",
        "array_2 = np.arange(3)\n",
        "print(\"Original array:\")\n",
        "print(\"Array-1\")\n",
        "print(array_1)\n",
        "print(\"Array-2\")\n",
        "print(array_2)\n",
        "print(\"Array 1 + Array 2:\")\n",
        "new_array = array_1 + array_2\n",
        "print(new_array)\n"
      ],
      "execution_count": 15,
      "outputs": [
        {
          "output_type": "stream",
          "text": [
            "Original array:\n",
            "Array-1\n",
            "[[1. 1. 1.]\n",
            " [1. 1. 1.]\n",
            " [1. 1. 1.]]\n",
            "Array-2\n",
            "[0 1 2]\n",
            "Array 1 + Array 2:\n",
            "[[1. 2. 3.]\n",
            " [1. 2. 3.]\n",
            " [1. 2. 3.]]\n"
          ],
          "name": "stdout"
        }
      ]
    },
    {
      "cell_type": "markdown",
      "metadata": {
        "id": "k-zFIO6yLg5p",
        "colab_type": "text"
      },
      "source": [
        "Q16. Write the NumPy program to copy data from a given array to\n",
        "another array?\n",
        "\n",
        "    Sample OutputOriginal array-\n",
        "    [24 27 30 29 18 14]\n",
        "    Copy of the said array-\n",
        "    [24 27 30 29 18 14]"
      ]
    },
    {
      "cell_type": "code",
      "metadata": {
        "id": "l2JIbFl1Lg5v",
        "colab_type": "code",
        "colab": {
          "base_uri": "https://localhost:8080/",
          "height": 102
        },
        "outputId": "46731207-e50c-460a-8d9b-6444ab5c17f7"
      },
      "source": [
        "import numpy as np\n",
        "array_1 = np.array([24, 27, 30, 29, 18, 14])\n",
        "print(\"Original array:\")\n",
        "print(array_1)\n",
        "array_2 = np.empty_like (array_1)\n",
        "array_2[:] = array_1\n",
        "print(\"-\"*25)\n",
        "print(\"Copy of the said array:\")\n",
        "print(array_1)\n"
      ],
      "execution_count": 16,
      "outputs": [
        {
          "output_type": "stream",
          "text": [
            "Original array:\n",
            "[24 27 30 29 18 14]\n",
            "-------------------------\n",
            "Copy of the said array:\n",
            "[24 27 30 29 18 14]\n"
          ],
          "name": "stdout"
        }
      ]
    },
    {
      "cell_type": "markdown",
      "metadata": {
        "id": "1oagjSx7Lg51",
        "colab_type": "text"
      },
      "source": [
        "Q17. Write the NumPy program to calculate the sum of all columns of\n",
        "the 2D numpy array?\n",
        "    \n",
        "    Sample OutputOriginal array-\n",
        "    [[ 0 1 2 3 4 5 6 7 8]\n",
        "    [ 9 10 11 12 13 14 15 16 17]\n",
        "    [18 19 20 21 22 23 24 25 26]\n",
        "    [27 28 29 30 31 32 33 34 35]]\n",
        "    Sum of all columns-\n",
        "    [54 58 62 66 70 74 78 82 86]"
      ]
    },
    {
      "cell_type": "code",
      "metadata": {
        "id": "VKFOqD3OLg52",
        "colab_type": "code",
        "colab": {
          "base_uri": "https://localhost:8080/",
          "height": 153
        },
        "outputId": "3f2cfd53-2e9f-4e60-e338-33951ac033c1"
      },
      "source": [
        "import numpy as np\n",
        "num = np.arange(36)\n",
        "array_1 = np.reshape(num, [4, 9])\n",
        "print(\"Original array:\")\n",
        "print(array_1)\n",
        "output  = array_1.sum(axis=0)\n",
        "print(\"-\", 25)\n",
        "print(\"Sum of all columns:\")\n",
        "print(output)\n"
      ],
      "execution_count": 17,
      "outputs": [
        {
          "output_type": "stream",
          "text": [
            "Original array:\n",
            "[[ 0  1  2  3  4  5  6  7  8]\n",
            " [ 9 10 11 12 13 14 15 16 17]\n",
            " [18 19 20 21 22 23 24 25 26]\n",
            " [27 28 29 30 31 32 33 34 35]]\n",
            "- 25\n",
            "Sum of all columns:\n",
            "[54 58 62 66 70 74 78 82 86]\n"
          ],
          "name": "stdout"
        }
      ]
    },
    {
      "cell_type": "markdown",
      "metadata": {
        "id": "VTqeEeJ6Lg55",
        "colab_type": "text"
      },
      "source": [
        "Q18. Write the NumPy program to calculate averages without NaNs\n",
        "along the given array?\n",
        "    \n",
        "    Sample OutputOriginal array-\n",
        "    [[10. 20. 30.]\n",
        "    [40. 50. nan]\n",
        "    [nan 6. nan]\n",
        "    [nan nan nan]]\n",
        "    Averages without NaNs along the said array-\n",
        "    [20. 45. 6. nan]"
      ]
    },
    {
      "cell_type": "code",
      "metadata": {
        "id": "W2HtAGxuLg56",
        "colab_type": "code",
        "colab": {
          "base_uri": "https://localhost:8080/",
          "height": 153
        },
        "outputId": "74111a69-9ae8-479c-9076-255512c2ee20"
      },
      "source": [
        "import numpy as np\n",
        "array_1 = np.array([[10, 20 ,30], [40, 50, np.nan], [np.nan, 6, np.nan], [np.nan, np.nan, np.nan]])\n",
        "print(\"Original array:\")\n",
        "print(array_1)\n",
        "temp = np.ma.masked_array(array_1,np.isnan(array_1))\n",
        "print(\"-\"*35)\n",
        "output = np.mean(temp, axis=1)\n",
        "print(\"Averages without NaNs along the said array:\")\n",
        "print(output.filled(np.nan))"
      ],
      "execution_count": 18,
      "outputs": [
        {
          "output_type": "stream",
          "text": [
            "Original array:\n",
            "[[10. 20. 30.]\n",
            " [40. 50. nan]\n",
            " [nan  6. nan]\n",
            " [nan nan nan]]\n",
            "-----------------------------------\n",
            "Averages without NaNs along the said array:\n",
            "[20. 45.  6. nan]\n"
          ],
          "name": "stdout"
        }
      ]
    },
    {
      "cell_type": "code",
      "metadata": {
        "id": "ljOkYbGYHBE9",
        "colab_type": "code",
        "colab": {
          "base_uri": "https://localhost:8080/",
          "height": 34
        },
        "outputId": "3461dd79-a110-40b3-fd7c-8aab91d4f09d"
      },
      "source": [
        "print(\"Jai Hind\")"
      ],
      "execution_count": 19,
      "outputs": [
        {
          "output_type": "stream",
          "text": [
            "Jai Hind\n"
          ],
          "name": "stdout"
        }
      ]
    },
    {
      "cell_type": "markdown",
      "metadata": {
        "id": "ScppoRVlLg58",
        "colab_type": "text"
      },
      "source": [
        "## Great Job!"
      ]
    }
  ]
}