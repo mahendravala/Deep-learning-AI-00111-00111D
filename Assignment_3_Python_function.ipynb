{
  "nbformat": 4,
  "nbformat_minor": 0,
  "metadata": {
    "kernelspec": {
      "display_name": "Python 3",
      "language": "python",
      "name": "python3"
    },
    "language_info": {
      "codemirror_mode": {
        "name": "ipython",
        "version": 3
      },
      "file_extension": ".py",
      "mimetype": "text/x-python",
      "name": "python",
      "nbconvert_exporter": "python",
      "pygments_lexer": "ipython3",
      "version": "3.7.4"
    },
    "colab": {
      "name": "Assignment 3 - Python function.ipynb",
      "provenance": [],
      "collapsed_sections": [],
      "include_colab_link": true
    }
  },
  "cells": [
    {
      "cell_type": "markdown",
      "metadata": {
        "id": "view-in-github",
        "colab_type": "text"
      },
      "source": [
        "<a href=\"https://colab.research.google.com/github/mahendravala/Deep-learning-AI-00111-00111D/blob/master/Assignment_3_Python_function.ipynb\" target=\"_parent\"><img src=\"https://colab.research.google.com/assets/colab-badge.svg\" alt=\"Open In Colab\"/></a>"
      ]
    },
    {
      "cell_type": "markdown",
      "metadata": {
        "id": "CS7O1kYBIc4Y",
        "colab_type": "text"
      },
      "source": [
        "## Problem Statement"
      ]
    },
    {
      "cell_type": "markdown",
      "metadata": {
        "id": "5rQ1dCubIc4c",
        "colab_type": "text"
      },
      "source": [
        "Q.1 Write a function to compute 5/0 and use try/except to catch the exceptions."
      ]
    },
    {
      "cell_type": "code",
      "metadata": {
        "id": "rspKiTRTIc4d",
        "colab_type": "code",
        "colab": {
          "base_uri": "https://localhost:8080/",
          "height": 34
        },
        "outputId": "8eeec55b-bc57-4fff-8584-bd520fc1320a"
      },
      "source": [
        "def compute_with_exception():\n",
        "    try:\n",
        "        return 5 / 0\n",
        "    except ZeroDivisionError as err:\n",
        "        print('Handling run-time error:', err)\n",
        "\n",
        "compute_with_exception()"
      ],
      "execution_count": 1,
      "outputs": [
        {
          "output_type": "stream",
          "text": [
            "Handling run-time error: division by zero\n"
          ],
          "name": "stdout"
        }
      ]
    },
    {
      "cell_type": "markdown",
      "metadata": {
        "id": "WLLhqVoFIc4j",
        "colab_type": "text"
      },
      "source": [
        "Q.2 Implement a Python program to generate all sentences where subject is in [\"Americans\",\n",
        "\"Indians\"] and verb is in [\"Play\", \"watch\"] and the object is in [\"Baseball\",\"cricket\"].\n",
        "\n",
        "    Hint: Subject,Verb and Object should be declared in the program as shown below.\n",
        "    subjects=[\"Americans \",\"Indians\"]\n",
        "    verbs=[\"play\",\"watch\"]\n",
        "    objects=[\"Baseball\",\"Cricket\"]\n",
        "\n",
        "    Output should come as below:\n",
        "    Americans play Baseball.\n",
        "    Americans play Cricket.\n",
        "    Americans watch Baseball.\n",
        "    Americans watch Cricket.\n",
        "    Indians play Baseball.\n",
        "    Indians play Cricket.\n",
        "    Indians watch Baseball.\n",
        "    Indians watch Cricket."
      ]
    },
    {
      "cell_type": "code",
      "metadata": {
        "id": "PNM8siSKIc4l",
        "colab_type": "code",
        "colab": {
          "base_uri": "https://localhost:8080/",
          "height": 153
        },
        "outputId": "ad208355-ea98-4249-f639-ea7db511029e"
      },
      "source": [
        "subjects=[\"Americans \",\"Indians\"]\n",
        "verbs=[\"play\",\"watch\"]\n",
        "objects=[\"Baseball\",\"Cricket\"]\n",
        "\n",
        "def generate_sentences(subjects, verbs, objects):\n",
        "    [print (subject, verb, obj, sep=\" \") for subject in subjects for verb in verbs for obj in objects]\n",
        "\n",
        "generate_sentences(subjects, verbs, objects)"
      ],
      "execution_count": 6,
      "outputs": [
        {
          "output_type": "stream",
          "text": [
            "Americans  play Baseball\n",
            "Americans  play Cricket\n",
            "Americans  watch Baseball\n",
            "Americans  watch Cricket\n",
            "Indians play Baseball\n",
            "Indians play Cricket\n",
            "Indians watch Baseball\n",
            "Indians watch Cricket\n"
          ],
          "name": "stdout"
        }
      ]
    },
    {
      "cell_type": "markdown",
      "metadata": {
        "id": "ZGZm1acSIc4o",
        "colab_type": "text"
      },
      "source": [
        "Q.3 Write a function so that the columns of the output matrix are powers of the input vector.\n",
        "The order of the powers is determined by the increasing boolean argument. Specifically, when\n",
        "increasing is False, the i-th output column is the input vector raised element-wise to the power\n",
        "of N - i - 1.\n",
        "\n",
        "    HINT: Such a matrix with a geometric progression in each row is named for Alexandre Theophile Vandermonde."
      ]
    },
    {
      "cell_type": "code",
      "metadata": {
        "id": "OBQTRrBra_La",
        "colab_type": "code",
        "colab": {}
      },
      "source": [
        "pass\n",
        "# sounds like it's a numpy question asked in wrong section."
      ],
      "execution_count": 0,
      "outputs": []
    }
  ]
}