{
  "nbformat": 4,
  "nbformat_minor": 0,
  "metadata": {
    "kernelspec": {
      "display_name": "Python 3",
      "language": "python",
      "name": "python3"
    },
    "language_info": {
      "codemirror_mode": {
        "name": "ipython",
        "version": 3
      },
      "file_extension": ".py",
      "mimetype": "text/x-python",
      "name": "python",
      "nbconvert_exporter": "python",
      "pygments_lexer": "ipython3",
      "version": "3.7.4"
    },
    "colab": {
      "name": "Subjective Assignment - 1- Python core.ipynb",
      "provenance": [],
      "collapsed_sections": [],
      "include_colab_link": true
    }
  },
  "cells": [
    {
      "cell_type": "markdown",
      "metadata": {
        "id": "view-in-github",
        "colab_type": "text"
      },
      "source": [
        "<a href=\"https://colab.research.google.com/github/mahendravala/Deep-learning-AI-00111-00111D/blob/master/Subjective_Assignment_1_Python_core.ipynb\" target=\"_parent\"><img src=\"https://colab.research.google.com/assets/colab-badge.svg\" alt=\"Open In Colab\"/></a>"
      ]
    },
    {
      "cell_type": "markdown",
      "metadata": {
        "id": "mqYsvsa9UMb_",
        "colab_type": "text"
      },
      "source": [
        "Q1. Write a Python program to get the string from the given string where\n",
        "all the occurrence of its first char has been changed to '$,' except first\n",
        "char itself?\n",
        "\n",
        "    Sample String: 'prospect'\n",
        "    Expected Result : 'pros$ect'\n"
      ]
    },
    {
      "cell_type": "code",
      "metadata": {
        "id": "tkObgYA6UMcE",
        "colab_type": "code",
        "outputId": "53ceece6-69cc-4148-8c60-6446562c6c90",
        "colab": {
          "base_uri": "https://localhost:8080/",
          "height": 34
        }
      },
      "source": [
        "def replace_after_first_occorunce(sample):\n",
        "  return sample[0] + sample[1:].replace(sample[0], '$')\n",
        " \n",
        "sample = \"prospect\"\n",
        "print (replace_after_first_occorunce(sample))"
      ],
      "execution_count": 0,
      "outputs": [
        {
          "output_type": "stream",
          "text": [
            "pros$ect\n"
          ],
          "name": "stdout"
        }
      ]
    },
    {
      "cell_type": "markdown",
      "metadata": {
        "id": "BJEEcWKjUMcL",
        "colab_type": "text"
      },
      "source": [
        "Q2. Write a Python program to get the single string from the two given\n",
        "strings, and separated by the space and swap the first two characters of\n",
        "each string?\n",
        "\n",
        "    Sample String : 'abc', 'xyz'.\n",
        "    Expected Result: 'xyc abz'"
      ]
    },
    {
      "cell_type": "code",
      "metadata": {
        "id": "IryeqjETUMcN",
        "colab_type": "code",
        "outputId": "ce34ad79-e300-4e02-c9e0-d54add99a093",
        "colab": {
          "base_uri": "https://localhost:8080/",
          "height": 68
        }
      },
      "source": [
        "def swap_2(a, b):\n",
        "  # Swaping by string operation\n",
        "  new_a = b[:2] + a[2:]\n",
        "  new_b = a[:2] + b[2:]\n",
        "  return new_a + \" \" + new_b\n",
        "\n",
        "a = input(\"Enter Sample A: \")\n",
        "b = input(\"Enter Sample B: \")\n",
        "print(swap_2(a, b))\n"
      ],
      "execution_count": 0,
      "outputs": [
        {
          "output_type": "stream",
          "text": [
            "Enter Sample A: abc\n",
            "Enter Sample B: xyz\n",
            "xyc abz\n"
          ],
          "name": "stdout"
        }
      ]
    },
    {
      "cell_type": "markdown",
      "metadata": {
        "id": "EsTcEPstUMcR",
        "colab_type": "text"
      },
      "source": [
        "Q3. Write the Python program to add 'ing' at the end of the given string\n",
        "(length of the string should be at least 3). If given string already ends\n",
        "with 'ing,' then add 'ly' instead. If string length of the given string is less\n",
        "than 3, leave it unchanged?\n",
        "\n",
        "\n",
        "    Sample string: ' abc '\n",
        "    Expected result: ' abcing '\n",
        "    Sample string: ' string '\n",
        "    Expected result: ' stringly '\n"
      ]
    },
    {
      "cell_type": "code",
      "metadata": {
        "id": "sSVhbAfIUMcT",
        "colab_type": "code",
        "outputId": "f8562da9-85ab-4231-9474-756a6a6642c6",
        "colab": {
          "base_uri": "https://localhost:8080/",
          "height": 34
        }
      },
      "source": [
        "def string_operation(string):\n",
        "    if len(string) < 3: # check if string length is less than 3 \n",
        "        return string \n",
        "    elif len(string) >= 3 and string[:-3].find('ing') < 0: # check if string length is greater or equal to 3 and it is not containing \"ing\" at the end.\n",
        "        return string + \"ing\"\n",
        "    else: # adding \"ly\" as it's grater than 3 characters and contains \"ing\" at the end\n",
        "        return string + \"ly\"\n",
        "\n",
        "string = 'abc'\n",
        "print(string_operation(string))"
      ],
      "execution_count": 0,
      "outputs": [
        {
          "output_type": "stream",
          "text": [
            "abcing\n"
          ],
          "name": "stdout"
        }
      ]
    },
    {
      "cell_type": "markdown",
      "metadata": {
        "id": "JgmUtDiHUMcY",
        "colab_type": "text"
      },
      "source": [
        "Q4. Write the Python program to find the first appearance of the\n",
        "substring 'not' and 'poor' from the given string, if 'not' follows the 'poor',\n",
        "replace the whole 'not'...' poor' substring with 'good'.Return the resulting\n",
        "string.\n",
        "\n",
        "    Sample string: 'The lyrics are not that poor!'\n",
        "    'The lyrics are poor!'\n",
        "    Expected Result: 'The lyrics are good!'\n",
        "    'The lyrics are poor!'"
      ]
    },
    {
      "cell_type": "code",
      "metadata": {
        "id": "dq6qgRiyUMcZ",
        "colab_type": "code",
        "outputId": "672d177a-1c56-4b08-fa14-03d841266653",
        "colab": {
          "base_uri": "https://localhost:8080/",
          "height": 51
        }
      },
      "source": [
        "def find_not_poor(string):\n",
        "    match_not = string.find('not')\n",
        "    match_poor = string.find('poor')\n",
        "\n",
        "    if match_poor > match_not and match_not > 0 and match_poor > 0:\n",
        "        string = string.replace(string[match_not:(match_poor+4)], 'good')\n",
        "        return string\n",
        "    else:\n",
        "        return string\n",
        "    \n",
        "print(find_not_poor('The lyrics is not that poor!'))\n",
        "print(find_not_poor('The lyrics is poor!'))"
      ],
      "execution_count": 0,
      "outputs": [
        {
          "output_type": "stream",
          "text": [
            "The lyrics is good!\n",
            "The lyrics is poor!\n"
          ],
          "name": "stdout"
        }
      ]
    },
    {
      "cell_type": "markdown",
      "metadata": {
        "id": "NtQtkaAvUMcf",
        "colab_type": "text"
      },
      "source": [
        "Q5. Write the Python program to remove the characters which have odd\n",
        "index values of a given string."
      ]
    },
    {
      "cell_type": "code",
      "metadata": {
        "id": "4NZUFJgqUMch",
        "colab_type": "code",
        "outputId": "9c7c1d4d-dc39-4008-8f1f-b728f0c07ba5",
        "colab": {
          "base_uri": "https://localhost:8080/",
          "height": 34
        }
      },
      "source": [
        "def remove_odd_chars(string):\n",
        "    return string[::2]\n",
        "    \n",
        "string = \"Ram naam satya hai\"\n",
        "remove_odd_chars(string)"
      ],
      "execution_count": 0,
      "outputs": [
        {
          "output_type": "execute_result",
          "data": {
            "text/plain": [
              "'Rmna ay a'"
            ]
          },
          "metadata": {
            "tags": []
          },
          "execution_count": 30
        }
      ]
    },
    {
      "cell_type": "markdown",
      "metadata": {
        "id": "gqrQFkmIUMco",
        "colab_type": "text"
      },
      "source": [
        "Q6. Write the python program to print the following floating numbers up\n",
        "to 2 decimal places?"
      ]
    },
    {
      "cell_type": "code",
      "metadata": {
        "id": "OCOOGgcyUMcq",
        "colab_type": "code",
        "outputId": "79b1e437-a9fa-43e7-fbc0-930a0bb3b09b",
        "colab": {
          "base_uri": "https://localhost:8080/",
          "height": 34
        }
      },
      "source": [
        "def rounding_float(fv):\n",
        "  print(\"Rounded Number: \"+\"{:.2f}\".format(fv))\n",
        "\n",
        "floating_value = 122.43453999\n",
        "rounding_float(floating_value)"
      ],
      "execution_count": 0,
      "outputs": [
        {
          "output_type": "stream",
          "text": [
            "Rounded Number: 122.43\n"
          ],
          "name": "stdout"
        }
      ]
    },
    {
      "cell_type": "markdown",
      "metadata": {
        "id": "NUvQRY2-UMcu",
        "colab_type": "text"
      },
      "source": [
        "Q7. Write the Python program to format a number with a percentage?"
      ]
    },
    {
      "cell_type": "code",
      "metadata": {
        "id": "0woLHNuWUMcv",
        "colab_type": "code",
        "outputId": "4f165a1c-6822-4530-9123-2da318ff531d",
        "colab": {
          "base_uri": "https://localhost:8080/",
          "height": 34
        }
      },
      "source": [
        "def percentage(pv):\n",
        "  print(\"Total profit for this year is: \"+\"{:.2f}%\".format(pv))\n",
        "\n",
        "floating_value = 89.43453999\n",
        "percentage(floating_value)"
      ],
      "execution_count": 0,
      "outputs": [
        {
          "output_type": "stream",
          "text": [
            "Total profit for this year is: 89.43%\n"
          ],
          "name": "stdout"
        }
      ]
    },
    {
      "cell_type": "markdown",
      "metadata": {
        "id": "j_8jS-GnUMcz",
        "colab_type": "text"
      },
      "source": [
        "Q8. Write the Python program to count occurrences of a substring in a\n",
        "String?"
      ]
    },
    {
      "cell_type": "code",
      "metadata": {
        "id": "5Vl52L3zUMc1",
        "colab_type": "code",
        "outputId": "2b1c5c39-f9ae-4ab9-c18b-96d57eb69878",
        "colab": {
          "base_uri": "https://localhost:8080/",
          "height": 34
        }
      },
      "source": [
        "def sub_string_count(string, sub_string):\n",
        "    return (string.count(sub_string))\n",
        "\n",
        "string = \"this is a lorem ipsum string in which we have to find the 'i' count.\"\n",
        "sub_string = \"o\"\n",
        "count = sub_string_count(string, sub_string)\n",
        "print(\"The occurence of\", sub_string , \"is count:\", count)"
      ],
      "execution_count": 0,
      "outputs": [
        {
          "output_type": "stream",
          "text": [
            "The occurence of o is count: 3\n"
          ],
          "name": "stdout"
        }
      ]
    },
    {
      "cell_type": "markdown",
      "metadata": {
        "id": "Whr8Xk3FUMc6",
        "colab_type": "text"
      },
      "source": [
        "Q9. Write the Python program to count repeated characters in a string.\n",
        "\n",
        "    Sample string: ' thequickbrownjumpsoverthelazydog '\n",
        "    \n",
        "    Expected output:\n",
        "    o 3\n",
        "    e 3\n",
        "    u 2\n",
        "    h 2\n",
        "    r 2\n",
        "    t 2"
      ]
    },
    {
      "cell_type": "code",
      "metadata": {
        "id": "P9Z0YA6bUMc7",
        "colab_type": "code",
        "colab": {
          "base_uri": "https://localhost:8080/",
          "height": 119
        },
        "outputId": "cd5f79a6-442a-4d61-9def-68cf9285b549"
      },
      "source": [
        "def print_counter(counter):\n",
        "    for key in counter:\n",
        "        print(key,\":\", counter[key])\n",
        "\n",
        "def countX(other_list, x):\n",
        "    count = 0\n",
        "    for ele in other_list: \n",
        "        if (ele == x): \n",
        "            count = count + 1\n",
        "    return count \n",
        "\n",
        "string = 'thequickbrownjumpsoverthelazydog'\n",
        "other_list = []\n",
        "for let in string:\n",
        "    other_list.append (let)\n",
        "\n",
        "#print(other_list)\n",
        "counter = {}\n",
        "for ele in other_list:\n",
        "    count = countX(other_list, ele)\n",
        "    if (count > 1):\n",
        "        counter.update({ele:count})\n",
        "\n",
        "print_counter(counter)"
      ],
      "execution_count": 1,
      "outputs": [
        {
          "output_type": "stream",
          "text": [
            "t : 2\n",
            "h : 2\n",
            "e : 3\n",
            "u : 2\n",
            "r : 2\n",
            "o : 3\n"
          ],
          "name": "stdout"
        }
      ]
    },
    {
      "cell_type": "markdown",
      "metadata": {
        "id": "LWdK9vAbUMc_",
        "colab_type": "text"
      },
      "source": [
        "Q10. Write the Python program to print the square and cube symbol in\n",
        "the area of a rectangle and volume of a cylinder?\n",
        "\n",
        "    Sample outputThe area of the rectangle is 1256.66cm2\n",
        "    The volume of the cylinder is 1254.725cm3\n"
      ]
    },
    {
      "cell_type": "code",
      "metadata": {
        "id": "28-MODyeUMdA",
        "colab_type": "code",
        "colab": {
          "base_uri": "https://localhost:8080/",
          "height": 51
        },
        "outputId": "ae443f0a-e019-49ab-e63b-e8f77d019a75"
      },
      "source": [
        "area_of_ractangle = 1256.66\n",
        "volume_of_cylinder = 1254.725\n",
        "decimal_points = 2 # max 2 decimal points allowed\n",
        "\n",
        "print(f\"The area of the rectangle is {area_of_ractangle:.{decimal_points}f}cm\\u00b2\")\n",
        "decimals = 3\n",
        "print(F\"The volume of the cylinder is {volume_of_cylinder:.{decimal_points}f}cm\\u00b3\")\n"
      ],
      "execution_count": 2,
      "outputs": [
        {
          "output_type": "stream",
          "text": [
            "The area of the rectangle is 1256.66cm²\n",
            "The volume of the cylinder is 1254.72cm³\n"
          ],
          "name": "stdout"
        }
      ]
    },
    {
      "cell_type": "markdown",
      "metadata": {
        "id": "Iq68GOmLUMdI",
        "colab_type": "text"
      },
      "source": [
        "Q11. Write the Python program to check if a string contains all letters of\n",
        "the alphabet?"
      ]
    },
    {
      "cell_type": "code",
      "metadata": {
        "id": "pzbXFcsiUMdK",
        "colab_type": "code",
        "colab": {
          "base_uri": "https://localhost:8080/",
          "height": 34
        },
        "outputId": "9a18dedf-717e-4fc1-c07e-0978c5b1c4bb"
      },
      "source": [
        "alphabets = ['a','b','c','d','e','f','i','j','k','l','m','n','o','p','q','r','s','t','u','v','w','x','y','z']\n",
        "string = 'Write the Python program to find the minimum window in the given string, which will contains all the characters of another given strings'\n",
        "\n",
        "print(set(string.lower()) >= set(alphabets))"
      ],
      "execution_count": 6,
      "outputs": [
        {
          "output_type": "stream",
          "text": [
            "True\n"
          ],
          "name": "stdout"
        }
      ]
    },
    {
      "cell_type": "markdown",
      "metadata": {
        "id": "QKgAkxzSUMdO",
        "colab_type": "text"
      },
      "source": [
        "Q12. Write the Python program to find the second most repeated word\n",
        "in a given string?"
      ]
    },
    {
      "cell_type": "code",
      "metadata": {
        "id": "tNLAG3PUUMdP",
        "colab_type": "code",
        "colab": {
          "base_uri": "https://localhost:8080/",
          "height": 34
        },
        "outputId": "c68e2cf4-a6d9-46e3-b380-2a7f07441169"
      },
      "source": [
        "string = \"In most aspects, a generator function will appear very similar to a normal function. The main difference is when a generator function is called and compiled they become an object that supports an iteration protocol. That means when they are called they don't actually return a value and then exit, the generator functions will automatically suspend and resume their execution and state around the last point of value generation.\"\n",
        "counts = dict()\n",
        "\n",
        "for word in string.split():\n",
        "    if word in counts:\n",
        "        counts[word] += 1\n",
        "    else:\n",
        "        counts[word] = 1\n",
        "\n",
        "counter = sorted(counts.items(), key=lambda kv: kv[1])\n",
        "counter = counter[::-1]\n",
        "highest = counter[0][1]\n",
        "\n",
        "for count in counter:\n",
        "    if (highest > count[1] and highest != count[1]):\n",
        "        print(count)\n",
        "        break\n",
        "    highest = count[1]\n",
        " "
      ],
      "execution_count": 7,
      "outputs": [
        {
          "output_type": "stream",
          "text": [
            "('they', 3)\n"
          ],
          "name": "stdout"
        }
      ]
    },
    {
      "cell_type": "markdown",
      "metadata": {
        "id": "jLieimH3UMdU",
        "colab_type": "text"
      },
      "source": [
        "Q13. Write the Python program to find the minimum window in the given\n",
        "string, which will contains all the characters of another given\n",
        "strings?\n",
        "\n",
        "    Example 1\n",
        "    Input : string1 = \" PRWSOERIUSFK \"\n",
        "    string2 = \" OSU \"\n",
        "    Output: Minimum window is \"OERIUS\""
      ]
    },
    {
      "cell_type": "code",
      "metadata": {
        "id": "Gi_3U_EmUMdW",
        "colab_type": "code",
        "colab": {}
      },
      "source": [
        "pass"
      ],
      "execution_count": 0,
      "outputs": []
    },
    {
      "cell_type": "markdown",
      "metadata": {
        "id": "ivZROQmeUMdd",
        "colab_type": "text"
      },
      "source": [
        "Q14. Write the Python program to count number of substrings from a\n",
        "given string of lowercase alphabets with exactly k distinct (given)\n",
        "characters?\n",
        "\n",
        "    Input a string (lowercase alphabets): wolf\n",
        "    Input k: 4\n",
        "    Number of substrings with exactly 4 distinct characters: 1"
      ]
    },
    {
      "cell_type": "code",
      "metadata": {
        "id": "91zrqbEDUMdf",
        "colab_type": "code",
        "colab": {
          "base_uri": "https://localhost:8080/",
          "height": 272
        },
        "outputId": "dd877787-ffa9-468c-e3b2-e77edffdfb9a"
      },
      "source": [
        "def dist_k_count(str1, k): \n",
        "    str_len = len(str1) \n",
        "\n",
        "    result = 0\n",
        "\n",
        "    for i in range(0, str_len): \n",
        "        dist_ctr = 0\n",
        "\n",
        "        ctr = [0] * 27\n",
        "        print (i)\n",
        "        for j in range(i, str_len): \n",
        "            \n",
        "            if(ctr[ord(str1[j]) - 97] == 0): \n",
        "                dist_ctr += 1\n",
        "\n",
        "            ctr[ord(str1[j]) - 97] += 1\n",
        "\n",
        "            if(dist_ctr == k):\n",
        "                result += 1\n",
        "            if(dist_ctr > k): \n",
        "                break\n",
        "\n",
        "\n",
        "\n",
        "    return result \n",
        "\n",
        "str1 = input(\"Input a string:\")\n",
        "k = int(input(\"Input k: \"))\n",
        "print(\"Number of substrings with exactly\", k, \"distinct characters : \", end = \"\") \n",
        "print (dist_k_count(str1.lower(), k))"
      ],
      "execution_count": 17,
      "outputs": [
        {
          "output_type": "stream",
          "text": [
            "Input a string:vandemataram\n",
            "Input k: 4\n",
            "Number of substrings with exactly 4 distinct characters : 0\n",
            "1\n",
            "2\n",
            "3\n",
            "4\n",
            "5\n",
            "6\n",
            "7\n",
            "8\n",
            "9\n",
            "10\n",
            "11\n",
            "11\n"
          ],
          "name": "stdout"
        }
      ]
    },
    {
      "cell_type": "markdown",
      "metadata": {
        "id": "rBWUwMLDUMdi",
        "colab_type": "text"
      },
      "source": [
        "Q15. Write the Python program to count number of substrings with same\n",
        "first and last characters of the given string?\n",
        "\n",
        "    Input a string: abcd\n",
        "    4\n"
      ]
    },
    {
      "cell_type": "code",
      "metadata": {
        "id": "TDES6E_VUMdj",
        "colab_type": "code",
        "colab": {
          "base_uri": "https://localhost:8080/",
          "height": 51
        },
        "outputId": "92a57ead-c2c1-4ade-9ce3-f05cdb04f872"
      },
      "source": [
        "result = 0; \n",
        "string = input(\"Input a string: \")\n",
        "n = len(string); \n",
        "for i in range(n): \n",
        "    for j in range(i, n): \n",
        "        if (string[i] == string[j]): \n",
        "            result = result + 1\n",
        "\n",
        "print(result)"
      ],
      "execution_count": 1,
      "outputs": [
        {
          "output_type": "stream",
          "text": [
            "Input a string: mahendra\n",
            "9\n"
          ],
          "name": "stdout"
        }
      ]
    },
    {
      "cell_type": "code",
      "metadata": {
        "id": "1a-rvrw9Gr8v",
        "colab_type": "code",
        "colab": {
          "base_uri": "https://localhost:8080/",
          "height": 34
        },
        "outputId": "b3ae3653-e205-42a9-cdc8-28f7af47b1b8"
      },
      "source": [
        "print (\"Jai Hind\")"
      ],
      "execution_count": 2,
      "outputs": [
        {
          "output_type": "stream",
          "text": [
            "Jai Hind\n"
          ],
          "name": "stdout"
        }
      ]
    },
    {
      "cell_type": "markdown",
      "metadata": {
        "id": "yg3zETx7UMdm",
        "colab_type": "text"
      },
      "source": [
        "## Great Job!"
      ]
    }
  ]
}