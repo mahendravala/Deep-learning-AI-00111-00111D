{
  "nbformat": 4,
  "nbformat_minor": 0,
  "metadata": {
    "kernelspec": {
      "display_name": "Python 3",
      "language": "python",
      "name": "python3"
    },
    "language_info": {
      "codemirror_mode": {
        "name": "ipython",
        "version": 3
      },
      "file_extension": ".py",
      "mimetype": "text/x-python",
      "name": "python",
      "nbconvert_exporter": "python",
      "pygments_lexer": "ipython3",
      "version": "3.7.4"
    },
    "colab": {
      "name": "Assignment 2 - Python Function.ipynb",
      "provenance": [],
      "collapsed_sections": [],
      "include_colab_link": true
    }
  },
  "cells": [
    {
      "cell_type": "markdown",
      "metadata": {
        "id": "view-in-github",
        "colab_type": "text"
      },
      "source": [
        "<a href=\"https://colab.research.google.com/github/mahendravala/Deep-learning-AI-00111-00111D/blob/master/Assignment_2_Python_Function.ipynb\" target=\"_parent\"><img src=\"https://colab.research.google.com/assets/colab-badge.svg\" alt=\"Open In Colab\"/></a>"
      ]
    },
    {
      "cell_type": "markdown",
      "metadata": {
        "id": "f_0fmr4Zo5rH",
        "colab_type": "text"
      },
      "source": [
        "## Problem Statement"
      ]
    },
    {
      "cell_type": "markdown",
      "metadata": {
        "id": "l8yIR5hwo5rM",
        "colab_type": "text"
      },
      "source": [
        "Q.1 Write a Python Program to implement your own myreduce() function which works exactly like\n",
        "Python's built-in function reduce()\n"
      ]
    },
    {
      "cell_type": "code",
      "metadata": {
        "id": "51bxJ8-xo5rO",
        "colab_type": "code",
        "colab": {
          "base_uri": "https://localhost:8080/",
          "height": 51
        },
        "outputId": "80f4acea-fea2-4036-9f8f-04f62bf1f783"
      },
      "source": [
        "import functools\n",
        "# Reduce will produce a single result\n",
        "def myreduce(func, seq):\n",
        "\n",
        "    # Get the first item in the sequence and assign it to the result\n",
        "    results = seq[0]\n",
        "    # iterate over remaining items in sequence and apply the reduction function \n",
        "    for item in seq[1:]:\n",
        "        results = func(results, item)\n",
        "    return results\n",
        "\n",
        "lis = [ 21 , 3, 5, 6, 2 ] \n",
        "\n",
        "print(myreduce(lambda a,b : a+b,lis))\n",
        "print (functools.reduce(lambda a,b : a+b,lis)) "
      ],
      "execution_count": 4,
      "outputs": [
        {
          "output_type": "stream",
          "text": [
            "37\n",
            "37\n"
          ],
          "name": "stdout"
        }
      ]
    },
    {
      "cell_type": "markdown",
      "metadata": {
        "id": "pjEPGsTwo5rT",
        "colab_type": "text"
      },
      "source": [
        "Q.2 Write a Python program to implement your own myfilter() function which works exactly like\n",
        "Python's built-in function filter()"
      ]
    },
    {
      "cell_type": "code",
      "metadata": {
        "id": "mX4Zyv3qo5rV",
        "colab_type": "code",
        "colab": {
          "base_uri": "https://localhost:8080/",
          "height": 51
        },
        "outputId": "7714c13e-8fef-4103-a394-72424808bab1"
      },
      "source": [
        "def myfilter(func, seq):\n",
        "\n",
        "    # Initialize empty list\n",
        "    result = []\n",
        "    # iterate over sequence of items in sequence and apply filter function\n",
        "    for item in seq:\n",
        "        if func(item):\n",
        "            result.append(item)\n",
        "\n",
        "    # return funal output\n",
        "    return result\n",
        "seq = [0, 1, 2, 3, 5, 8, 13] \n",
        "\n",
        "print(myfilter(lambda x: x % 2, seq))\n",
        "print (list(filter(lambda x: x % 2, seq))) "
      ],
      "execution_count": 5,
      "outputs": [
        {
          "output_type": "stream",
          "text": [
            "[1, 3, 5, 13]\n",
            "[1, 3, 5, 13]\n"
          ],
          "name": "stdout"
        }
      ]
    },
    {
      "cell_type": "markdown",
      "metadata": {
        "id": "nKwxhe0Ao5rb",
        "colab_type": "text"
      },
      "source": [
        "Q.3 Implement List comprehensions to produce the following lists.\n",
        "   Write List comprehensions to produce the following Lists\n",
        "   \n",
        "    ['A', 'C', 'A', 'D', 'G', 'I', ’L’, ‘ D’]\n",
        "   \n",
        "    ['x', 'xx', 'xxx', 'xxxx', 'y', 'yy', 'yyy', 'yyyy', 'z', 'zz', 'zzz', 'zzzz']\n",
        "\n",
        "    ['x', 'y', 'z', 'xx', 'yy', 'zz', 'xx', 'yy', 'zz', 'xxxx', 'yyyy', 'zzzz']\n",
        "    \n",
        "    [[2], [3], [4], [3], [4], [5], [4], [5], [6]]\n",
        "\n",
        "    [[2, 3, 4, 5], [3, 4, 5, 6], [4, 5, 6, 7], [5, 6, 7, 8]]\n",
        "\n",
        "    [(1, 1), (2, 1), (3, 1), (1, 2), (2, 2), (3, 2), (1, 3), (2, 3), (3, 3)]"
      ]
    },
    {
      "cell_type": "code",
      "metadata": {
        "id": "2cqzEBUEo5rd",
        "colab_type": "code",
        "colab": {
          "base_uri": "https://localhost:8080/",
          "height": 119
        },
        "outputId": "c094b835-a5b9-4348-e16c-f9d6c5a66f55"
      },
      "source": [
        "def list_comprehensions_func_1(word):\n",
        "    return [ alphabet for alphabet in word ]\n",
        "print(str(list_comprehensions_func_1(\"ACADGILD\")))\n",
        "\n",
        "def list_comprehensions_func_2(word, num):\n",
        "    return [alphabet * n for alphabet in word for n in range(1,num)]\n",
        "print(list_comprehensions_func_2(\"XYZ\", 4))\n",
        "\n",
        "def list_comprehensions_func_3(word, num):\n",
        "    return [alphabet * n for n in range(1,num) for alphabet in word ]\n",
        "print(list_comprehensions_func_3(\"XYZ\", 4))\n",
        "\n",
        "def list_comprehensions_func_4(lst):\n",
        "    num = 3\n",
        "    return [[l+n] for l in lst for n in range(0,num)]\n",
        "lst = [2,3,4]\n",
        "print(list_comprehensions_func_4(lst))\n",
        "\n",
        "def list_comprehensions_func_5(lst):\n",
        "    num = 4\n",
        "    return [[l+n for n in range(0,num) ] for l in lst]\n",
        "lst = [2,3,4,5]\n",
        "print(list_comprehensions_func_5(lst))\n",
        "\n",
        "def list_comprehensions_func_6(lst):\n",
        "    num = 4\n",
        "    return [(l, n) for n in range(1,num) for l in lst ]\n",
        "lst = [1,2,3]\n",
        "print(str(list_comprehensions_func_6(lst)))\n",
        "\n"
      ],
      "execution_count": 6,
      "outputs": [
        {
          "output_type": "stream",
          "text": [
            "['A', 'C', 'A', 'D', 'G', 'I', 'L', 'D']\n",
            "['X', 'XX', 'XXX', 'Y', 'YY', 'YYY', 'Z', 'ZZ', 'ZZZ']\n",
            "['X', 'Y', 'Z', 'XX', 'YY', 'ZZ', 'XXX', 'YYY', 'ZZZ']\n",
            "[[2], [3], [4], [3], [4], [5], [4], [5], [6]]\n",
            "[[2, 3, 4, 5], [3, 4, 5, 6], [4, 5, 6, 7], [5, 6, 7, 8]]\n",
            "[(1, 1), (2, 1), (3, 1), (1, 2), (2, 2), (3, 2), (1, 3), (2, 3), (3, 3)]\n"
          ],
          "name": "stdout"
        }
      ]
    },
    {
      "cell_type": "markdown",
      "metadata": {
        "id": "4z0ZiivPo5rh",
        "colab_type": "text"
      },
      "source": [
        "Q.4 Implement a function longestWord() that takes a list of words and returns the longest one."
      ]
    },
    {
      "cell_type": "code",
      "metadata": {
        "id": "2qFBhyAZo5ri",
        "colab_type": "code",
        "colab": {
          "base_uri": "https://localhost:8080/",
          "height": 34
        },
        "outputId": "e30a055a-ddf0-47f2-dabd-1b69d2f2bb4d"
      },
      "source": [
        "def longestWord(words):\n",
        "    return max([len(word) for word in words])\n",
        "\n",
        "words = \"The main advantage here is state suspension which means, instead of computing an entire series of values upfront and the generator functions can be suspended. To understand this concept better let's go ahead and learn how to create some generator functions.\"\n",
        "print(\"Longest Word in this string:\", longestWord(words.split()))   \n"
      ],
      "execution_count": 12,
      "outputs": [
        {
          "output_type": "stream",
          "text": [
            "Longest Word in this string: 10\n"
          ],
          "name": "stdout"
        }
      ]
    },
    {
      "cell_type": "markdown",
      "metadata": {
        "id": "iFiscqTeo5rl",
        "colab_type": "text"
      },
      "source": [
        "Q.5 Write a Python Program(with class concepts) to find the area of the triangle using the below\n",
        "formula.\n",
        "\n",
        "area = (s*(s-a)*(s-b)*(s-c)) ** 0.5\n",
        "\n",
        "Function to take the length of the sides of triangle from user should be defined in the parent\n",
        "class and function to calculate the area should be defined in subclass."
      ]
    },
    {
      "cell_type": "code",
      "metadata": {
        "id": "eWCSqSq-o5rm",
        "colab_type": "code",
        "colab": {
          "base_uri": "https://localhost:8080/",
          "height": 34
        },
        "outputId": "5282692d-4265-4a9f-e0d9-847cf03ee330"
      },
      "source": [
        "class Triangle():\n",
        "    def __init__(self, lengths_of_sides):\n",
        "        self.lengths_of_sides = lengths_of_sides  # list of three numbers\n",
        "\n",
        "    def get_area(self):\n",
        "        '''return the area of the triangle using the semi-perimeter method'''\n",
        "        a, b, c = self.lengths_of_sides\n",
        "\n",
        "        # calculate the semi-perimeter\n",
        "        s = (a + b + c) / 2\n",
        "        return (s*(s-a)*(s-b)*(s-c)) ** 0.5\n",
        "    \n",
        "triangle = Triangle([2,2,2])\n",
        "print (triangle.get_area())"
      ],
      "execution_count": 1,
      "outputs": [
        {
          "output_type": "stream",
          "text": [
            "1.7320508075688772\n"
          ],
          "name": "stdout"
        }
      ]
    },
    {
      "cell_type": "markdown",
      "metadata": {
        "id": "61p1DFrZo5rq",
        "colab_type": "text"
      },
      "source": [
        "Q.6 Write a function filter_long_words() that takes a list of words and an integer n and returns the list\n",
        "of words that are longer than n."
      ]
    },
    {
      "cell_type": "code",
      "metadata": {
        "id": "FfF_TaR3o5rr",
        "colab_type": "code",
        "colab": {
          "base_uri": "https://localhost:8080/",
          "height": 34
        },
        "outputId": "d2fc09d1-e5c2-4102-e3ac-a67378c543aa"
      },
      "source": [
        "def filter_long_words(lst, n):\n",
        "    return [l for l in lst if len(l) > n]\n",
        "\n",
        "a = filter_long_words([\"Mahendra\", \"Sinh\", \"B\", \"Vala\", \"Gir-Somnath\"], 3)\n",
        "print(a)"
      ],
      "execution_count": 2,
      "outputs": [
        {
          "output_type": "stream",
          "text": [
            "['Mahendra', 'Sinh', 'Vala', 'Gir-Somnath']\n"
          ],
          "name": "stdout"
        }
      ]
    },
    {
      "cell_type": "markdown",
      "metadata": {
        "id": "cV616wZ8o5rx",
        "colab_type": "text"
      },
      "source": [
        "Q.7 Write a Python program using function concept that maps list of words into a list of integers\n",
        "representing the lengths of the corresponding words.\n",
        "    \n",
        "    Hint: If a list [ ab,cde,erty] is passed on to the python function output should come as [2,3,4]\n",
        "    Here 2,3 and 4 are the lengths of the words in the list."
      ]
    },
    {
      "cell_type": "code",
      "metadata": {
        "id": "lPdSc0kmo5ry",
        "colab_type": "code",
        "colab": {
          "base_uri": "https://localhost:8080/",
          "height": 34
        },
        "outputId": "e56b773a-3781-49c0-8a21-9e8488bf3a1d"
      },
      "source": [
        "def lengths_map(lst):\n",
        "    return [len(l) for l in lst]\n",
        "\n",
        "a = lengths_map([\"Mahendra\", \"Sinh\", \"B\", \"Vala\", \"Gir-Somnath\"])\n",
        "print(a)"
      ],
      "execution_count": 3,
      "outputs": [
        {
          "output_type": "stream",
          "text": [
            "[8, 4, 1, 4, 11]\n"
          ],
          "name": "stdout"
        }
      ]
    },
    {
      "cell_type": "markdown",
      "metadata": {
        "id": "IDd-yX3vo5r1",
        "colab_type": "text"
      },
      "source": [
        "Q.8 Write a Python function which takes a character (i.e. a string of length 1) and returns True if it is\n",
        "a vowel, False otherwise."
      ]
    },
    {
      "cell_type": "code",
      "metadata": {
        "id": "HZe0SIh9o5r2",
        "colab_type": "code",
        "colab": {
          "base_uri": "https://localhost:8080/",
          "height": 34
        },
        "outputId": "af40bdde-e585-458a-be6c-c7b20d715a47"
      },
      "source": [
        "def is_vowel(char):\n",
        "    return char in \"aeiou\"\n",
        "is_vowel(\"b\")"
      ],
      "execution_count": 4,
      "outputs": [
        {
          "output_type": "execute_result",
          "data": {
            "text/plain": [
              "False"
            ]
          },
          "metadata": {
            "tags": []
          },
          "execution_count": 4
        }
      ]
    },
    {
      "cell_type": "code",
      "metadata": {
        "id": "Hp2fAvVX9fxv",
        "colab_type": "code",
        "colab": {
          "base_uri": "https://localhost:8080/",
          "height": 34
        },
        "outputId": "e4b82f90-3811-436a-fdc4-51202d000fb8"
      },
      "source": [
        "print(\"Jai Hind\")"
      ],
      "execution_count": 5,
      "outputs": [
        {
          "output_type": "stream",
          "text": [
            "Jai Hind\n"
          ],
          "name": "stdout"
        }
      ]
    },
    {
      "cell_type": "markdown",
      "metadata": {
        "id": "tW8WoEzro5r5",
        "colab_type": "text"
      },
      "source": [
        "## Great job!"
      ]
    }
  ]
}