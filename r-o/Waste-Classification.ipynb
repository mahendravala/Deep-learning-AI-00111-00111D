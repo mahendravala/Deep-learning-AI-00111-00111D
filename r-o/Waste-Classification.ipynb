{
 "cells": [
  {
   "cell_type": "code",
   "execution_count": 3,
   "metadata": {},
   "outputs": [],
   "source": [
    "import keras\n",
    "from keras.models import Sequential\n",
    "from keras.layers import Conv2D, Activation, MaxPooling2D\n",
    "from keras.layers import Dropout, Dense, Flatten"
   ]
  },
  {
   "cell_type": "code",
   "execution_count": 5,
   "metadata": {},
   "outputs": [
    {
     "name": "stdout",
     "output_type": "stream",
     "text": [
      "WARNING:tensorflow:From /anaconda3/lib/python3.6/site-packages/keras/backend/tensorflow_backend.py:4070: The name tf.nn.max_pool is deprecated. Please use tf.nn.max_pool2d instead.\n",
      "\n"
     ]
    }
   ],
   "source": [
    "model = Sequential()\n",
    "model.add(Conv2D(64, (7,7), kernel_initializer='he_normal', input_shape = (64,64,3), activation = \"relu\"))\n",
    "model.add(MaxPooling2D(2,2))\n",
    "\n",
    "model.add(Conv2D(32, (5,5), kernel_initializer='he_normal' , activation = \"relu\"))\n",
    "model.add(MaxPooling2D(2,2))\n",
    "\n",
    "model.add(Conv2D(32, (3,3), kernel_initializer='he_normal' , activation = \"relu\"))\n",
    "model.add(MaxPooling2D(2,2))\n",
    "\n",
    "model.add(Conv2D(32, (3,3), kernel_initializer='he_normal' , activation = \"relu\"))\n",
    "model.add(MaxPooling2D(2,2))\n",
    "\n",
    "model.add(Dropout(0.01))\n",
    "model.add(Flatten())\n",
    "model.add(Dense(512, activation = \"relu\"))\n",
    "model.add(Dense(256, activation = \"relu\"))\n",
    "model.add(Dense(128, activation = \"relu\"))\n",
    "\n",
    "model.add(Dropout(0.01))\n",
    "model.add(Dense(2, activation = \"softmax\"))\n",
    "\n"
   ]
  },
  {
   "cell_type": "code",
   "execution_count": 6,
   "metadata": {},
   "outputs": [],
   "source": [
    "opt = keras.optimizers.Adam(learning_rate=0.001, beta_1=0.9, beta_2=0.999, amsgrad=False)\n",
    "\n",
    "model.compile(loss='binary_crossentropy',\n",
    "              optimizer=opt,\n",
    "              metrics=['accuracy'])"
   ]
  },
  {
   "cell_type": "code",
   "execution_count": 7,
   "metadata": {},
   "outputs": [
    {
     "name": "stdout",
     "output_type": "stream",
     "text": [
      "Found 22564 images belonging to 2 classes.\n",
      "Found 2513 images belonging to 2 classes.\n",
      "WARNING:tensorflow:From /anaconda3/lib/python3.6/site-packages/tensorflow_core/python/ops/math_grad.py:1424: where (from tensorflow.python.ops.array_ops) is deprecated and will be removed in a future version.\n",
      "Instructions for updating:\n",
      "Use tf.where in 2.0, which has the same broadcast rule as np.where\n",
      "WARNING:tensorflow:From /anaconda3/lib/python3.6/site-packages/keras/backend/tensorflow_backend.py:422: The name tf.global_variables is deprecated. Please use tf.compat.v1.global_variables instead.\n",
      "\n",
      "Epoch 1/20\n",
      "4000/4000 [==============================] - 1632s 408ms/step - loss: 0.3940 - accuracy: 0.8302 - val_loss: 0.3149 - val_accuracy: 0.8727\n",
      "Epoch 2/20\n",
      "4000/4000 [==============================] - 1531s 383ms/step - loss: 0.3188 - accuracy: 0.8665 - val_loss: 0.4528 - val_accuracy: 0.8627\n",
      "Epoch 3/20\n",
      "4000/4000 [==============================] - 1474s 369ms/step - loss: 0.2644 - accuracy: 0.8924 - val_loss: 0.3728 - val_accuracy: 0.8666\n",
      "Epoch 4/20\n",
      "4000/4000 [==============================] - 1646s 411ms/step - loss: 0.2103 - accuracy: 0.9156 - val_loss: 0.3719 - val_accuracy: 0.8421\n",
      "Epoch 5/20\n",
      "4000/4000 [==============================] - 1717s 429ms/step - loss: 0.1640 - accuracy: 0.9364 - val_loss: 0.4866 - val_accuracy: 0.8553\n",
      "Epoch 6/20\n",
      "4000/4000 [==============================] - 1508s 377ms/step - loss: 0.1284 - accuracy: 0.9513 - val_loss: 0.5176 - val_accuracy: 0.8543\n",
      "Epoch 7/20\n",
      "4000/4000 [==============================] - 1461s 365ms/step - loss: 0.1056 - accuracy: 0.9599 - val_loss: 0.3000 - val_accuracy: 0.8661\n",
      "Epoch 8/20\n",
      "4000/4000 [==============================] - 1472s 368ms/step - loss: 0.0902 - accuracy: 0.9664 - val_loss: 0.5970 - val_accuracy: 0.8535\n",
      "Epoch 9/20\n",
      "4000/4000 [==============================] - 1482s 371ms/step - loss: 0.0772 - accuracy: 0.9718 - val_loss: 0.2157 - val_accuracy: 0.8465\n",
      "Epoch 10/20\n",
      "4000/4000 [==============================] - 1470s 368ms/step - loss: 0.0708 - accuracy: 0.9746 - val_loss: 0.3608 - val_accuracy: 0.8636\n",
      "Epoch 11/20\n",
      "4000/4000 [==============================] - 1459s 365ms/step - loss: 0.0668 - accuracy: 0.9767 - val_loss: 1.2301 - val_accuracy: 0.8640\n",
      "Epoch 12/20\n",
      "4000/4000 [==============================] - 1457s 364ms/step - loss: 0.0577 - accuracy: 0.9791 - val_loss: 1.1778 - val_accuracy: 0.8665\n",
      "Epoch 13/20\n",
      "4000/4000 [==============================] - 1466s 367ms/step - loss: 0.0535 - accuracy: 0.9812 - val_loss: 0.9168 - val_accuracy: 0.8664\n",
      "Epoch 14/20\n",
      "4000/4000 [==============================] - 1456s 364ms/step - loss: 0.0503 - accuracy: 0.9825 - val_loss: 1.0453 - val_accuracy: 0.8693\n",
      "Epoch 15/20\n",
      "4000/4000 [==============================] - 1458s 364ms/step - loss: 0.0455 - accuracy: 0.9842 - val_loss: 0.8747 - val_accuracy: 0.8567\n",
      "Epoch 16/20\n",
      "4000/4000 [==============================] - 1455s 364ms/step - loss: 0.0442 - accuracy: 0.9848 - val_loss: 1.0241 - val_accuracy: 0.8679\n",
      "Epoch 17/20\n",
      "4000/4000 [==============================] - 1452s 363ms/step - loss: 0.0386 - accuracy: 0.9870 - val_loss: 0.9828 - val_accuracy: 0.8700\n",
      "Epoch 18/20\n",
      "4000/4000 [==============================] - 1444s 361ms/step - loss: 0.0441 - accuracy: 0.9852 - val_loss: 1.4024 - val_accuracy: 0.8718\n",
      "Epoch 19/20\n",
      "4000/4000 [==============================] - 1447s 362ms/step - loss: 0.0414 - accuracy: 0.9862 - val_loss: 1.6908 - val_accuracy: 0.8554\n",
      "Epoch 20/20\n",
      "4000/4000 [==============================] - 1457s 364ms/step - loss: 0.0378 - accuracy: 0.9872 - val_loss: 1.5773 - val_accuracy: 0.8690\n"
     ]
    },
    {
     "data": {
      "text/plain": [
       "<keras.callbacks.callbacks.History at 0x1c415bdd68>"
      ]
     },
     "execution_count": 7,
     "metadata": {},
     "output_type": "execute_result"
    }
   ],
   "source": [
    "\n",
    "from keras.preprocessing.image import ImageDataGenerator\n",
    "\n",
    "train_datagen = ImageDataGenerator(rescale=1./255)\n",
    "\n",
    "test_datagen = ImageDataGenerator(rescale = 1./255)\n",
    "\n",
    "training_set = train_datagen.flow_from_directory('/Users/mahendravala/Documents/r-o/train',\n",
    "                                                 target_size = (64,64),\n",
    "                                                 batch_size = 32)\n",
    "\n",
    "test_set = test_datagen.flow_from_directory('/Users/mahendravala/Documents/r-o/test',\n",
    "                                                 target_size = (64,64),\n",
    "                                                 batch_size = 32)\n",
    "\n",
    "model.fit_generator(training_set,\n",
    "                    steps_per_epoch = 4000,\n",
    "                    epochs = 20,\n",
    "                    validation_data = test_set,\n",
    "                    validation_steps = 1000)"
   ]
  },
  {
   "cell_type": "code",
   "execution_count": 8,
   "metadata": {},
   "outputs": [],
   "source": [
    "\n",
    "model.save('my_model.h5')"
   ]
  },
  {
   "cell_type": "code",
   "execution_count": 10,
   "metadata": {},
   "outputs": [
    {
     "data": {
      "text/plain": [
       "{'O': 0, 'R': 1}"
      ]
     },
     "execution_count": 10,
     "metadata": {},
     "output_type": "execute_result"
    }
   ],
   "source": [
    "training_set.class_indices"
   ]
  },
  {
   "cell_type": "code",
   "execution_count": null,
   "metadata": {},
   "outputs": [],
   "source": []
  }
 ],
 "metadata": {
  "kernelspec": {
   "display_name": "Python 3",
   "language": "python",
   "name": "python3"
  },
  "language_info": {
   "codemirror_mode": {
    "name": "ipython",
    "version": 3
   },
   "file_extension": ".py",
   "mimetype": "text/x-python",
   "name": "python",
   "nbconvert_exporter": "python",
   "pygments_lexer": "ipython3",
   "version": "3.6.8"
  }
 },
 "nbformat": 4,
 "nbformat_minor": 2
}
