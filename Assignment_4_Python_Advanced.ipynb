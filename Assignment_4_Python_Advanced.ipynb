{
  "nbformat": 4,
  "nbformat_minor": 0,
  "metadata": {
    "kernelspec": {
      "display_name": "Python 3",
      "language": "python",
      "name": "python3"
    },
    "language_info": {
      "codemirror_mode": {
        "name": "ipython",
        "version": 3
      },
      "file_extension": ".py",
      "mimetype": "text/x-python",
      "name": "python",
      "nbconvert_exporter": "python",
      "pygments_lexer": "ipython3",
      "version": "3.7.4"
    },
    "colab": {
      "name": "Assignment 4 - Python Advanced.ipynb",
      "provenance": [],
      "collapsed_sections": [],
      "include_colab_link": true
    }
  },
  "cells": [
    {
      "cell_type": "markdown",
      "metadata": {
        "id": "view-in-github",
        "colab_type": "text"
      },
      "source": [
        "<a href=\"https://colab.research.google.com/github/mahendravala/Deep-learning-AI-00111-00111D/blob/master/Assignment_4_Python_Advanced.ipynb\" target=\"_parent\"><img src=\"https://colab.research.google.com/assets/colab-badge.svg\" alt=\"Open In Colab\"/></a>"
      ]
    },
    {
      "cell_type": "markdown",
      "metadata": {
        "id": "rBrQNHQwOwxJ",
        "colab_type": "text"
      },
      "source": [
        "# Assignment 4 Questions"
      ]
    },
    {
      "cell_type": "markdown",
      "metadata": {
        "id": "OZ4kS4mhOwxN",
        "colab_type": "text"
      },
      "source": [
        "## Problem Statement"
      ]
    },
    {
      "cell_type": "markdown",
      "metadata": {
        "id": "DyI9jNP_OwxR",
        "colab_type": "text"
      },
      "source": [
        "Q.1 Given a sequence of n values x1, x2, ..., xn and a window size k>0, the k-th moving average of\n",
        "the given sequence is defined as follows:\n",
        "\n",
        "The moving average sequence has n-k+1 elements as shown below.\n",
        "The moving averages with k=4 of a ten-value sequence (n=10) is shown below\n",
        "\n",
        "    i 1 2 3 4 5 6 7 8 9 10\n",
        "    ===== == == == == == == == == == ==\n",
        "    Input 10 20 30 40 50 60 70 80 90 100\n",
        "    y1 25 = (10+20+30+40)/4\n",
        "    y2 35 = (20+30+40+50)/4\n",
        "    y3 45 = (30+40+50+60)/4\n",
        "    y4 55 = (40+50+60+70)/4\n",
        "    y5 65 = (50+60+70+80)/4\n",
        "    y6 75 = (60+70+80+90)/4\n",
        "    y7 85 = (70+80+90+100)/4\n",
        "\n",
        "Thus, the moving average sequence has n-k+1=10-4+1=7 values.\n",
        "\n",
        "Write a function to find moving average in an array over a window:\n",
        "\n",
        "Test it over [3, 5, 7, 2, 8, 10, 11, 65, 72, 81, 99, 100, 150] and window of 3."
      ]
    },
    {
      "cell_type": "code",
      "metadata": {
        "id": "idmRqnhzOwxU",
        "colab_type": "code",
        "colab": {
          "base_uri": "https://localhost:8080/",
          "height": 51
        },
        "outputId": "2a0e40fc-be15-48ed-cdfc-7dc998b83609"
      },
      "source": [
        "# using numpy\n",
        "import numpy as np\n",
        "def moving_average(a, n=3) :\n",
        "    ret = np.cumsum(a, dtype=float)\n",
        "    ret[n:] = ret[n:] - ret[:-n]\n",
        "    return ret[n - 1:] / n\n",
        "\n",
        "a = [3, 5, 7, 2, 8, 10, 11, 65, 72, 81, 99, 100, 150]\n",
        "print(moving_average(a, n=4))\n",
        "\n",
        "# using my own moving avarage function\n",
        "def my_moving_average(lst, n=3):\n",
        "    j = 0\n",
        "    ret = []\n",
        "    for i in range(len(lst)):\n",
        "        total = 0\n",
        "        for d in range(i, i + n):\n",
        "            if (len(lst) - j >= n):\n",
        "                total = total + lst[d]\n",
        "        j = j+1\n",
        "        \n",
        "        if (total > 0):\n",
        "           ret.append(total/n) \n",
        "    return ( ret)\n",
        "        \n",
        "        \n",
        "print(my_moving_average(a, n=4))"
      ],
      "execution_count": 1,
      "outputs": [
        {
          "output_type": "stream",
          "text": [
            "[  4.25   5.5    6.75   7.75  23.5   39.5   57.25  79.25  88.   107.5 ]\n",
            "[4.25, 5.5, 6.75, 7.75, 23.5, 39.5, 57.25, 79.25, 88.0, 107.5]\n"
          ],
          "name": "stdout"
        }
      ]
    },
    {
      "cell_type": "markdown",
      "metadata": {
        "id": "NgBv4npAOwxY",
        "colab_type": "text"
      },
      "source": [
        "Q.2 How-to-count-distance-to-the-previous-zero\n",
        "For each value, count the difference back to the previous zero (or the start of the Series,\n",
        "whichever is closer)\n",
        "create a new column 'Y'\n",
        "Consider a DataFrame df where there is an integer column 'X'\n",
        "    \n",
        "    import pandas as pd\n",
        "    df = pd.DataFrame({'X': [7, 2, 0, 3, 4, 2, 5, 0, 3, 4]})"
      ]
    },
    {
      "cell_type": "code",
      "metadata": {
        "id": "7uCsjliCOwxZ",
        "colab_type": "code",
        "colab": {
          "base_uri": "https://localhost:8080/",
          "height": 204
        },
        "outputId": "3edb8b57-cd55-48b7-eac8-5837d36fdc6a"
      },
      "source": [
        "import numpy as np\n",
        "import pandas as pd\n",
        "df = pd.Series([7,2,0,3,4,2,5,0,3,4])\n",
        "x = (df != 0).cumsum()\n",
        "y = x != x.shift()\n",
        "y.groupby((y != y.shift()).cumsum()).cumsum()"
      ],
      "execution_count": 4,
      "outputs": [
        {
          "output_type": "execute_result",
          "data": {
            "text/plain": [
              "0    1.0\n",
              "1    2.0\n",
              "2    0.0\n",
              "3    1.0\n",
              "4    2.0\n",
              "5    3.0\n",
              "6    4.0\n",
              "7    0.0\n",
              "8    1.0\n",
              "9    2.0\n",
              "dtype: float64"
            ]
          },
          "metadata": {
            "tags": []
          },
          "execution_count": 4
        }
      ]
    },
    {
      "cell_type": "markdown",
      "metadata": {
        "id": "GsajoLjlOwxh",
        "colab_type": "text"
      },
      "source": [
        "Q.3 Create a DatetimeIndex that contains each business day of 2015 and use it to index a Series of\n",
        "random numbers."
      ]
    },
    {
      "cell_type": "code",
      "metadata": {
        "id": "azP64nZXOwxj",
        "colab_type": "code",
        "colab": {
          "base_uri": "https://localhost:8080/",
          "height": 255
        },
        "outputId": "9d71a863-f441-4042-c700-c6d8ca5870c1"
      },
      "source": [
        "import datetime\n",
        "import numpy as np\n",
        "import pandas as pd\n",
        "dti = pd.DataFrame(np.random.randn(365, 1), columns=['Columns'], index=pd.date_range('2015-01-01', periods=365, freq='D')) \n",
        "print(dti)"
      ],
      "execution_count": 19,
      "outputs": [
        {
          "output_type": "stream",
          "text": [
            "             Columns\n",
            "2015-01-01 -0.451304\n",
            "2015-01-02  0.734708\n",
            "2015-01-03 -1.060997\n",
            "2015-01-04 -1.703642\n",
            "2015-01-05  1.643232\n",
            "...              ...\n",
            "2015-12-27 -0.566128\n",
            "2015-12-28  0.804383\n",
            "2015-12-29 -1.270202\n",
            "2015-12-30 -0.408938\n",
            "2015-12-31  0.176124\n",
            "\n",
            "[365 rows x 1 columns]\n"
          ],
          "name": "stdout"
        }
      ]
    },
    {
      "cell_type": "markdown",
      "metadata": {
        "id": "uiV3sXrkOwxm",
        "colab_type": "text"
      },
      "source": [
        "Q.4 "
      ]
    }
  ]
}