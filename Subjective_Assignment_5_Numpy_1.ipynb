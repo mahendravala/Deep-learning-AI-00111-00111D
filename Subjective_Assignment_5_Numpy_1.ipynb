{
  "nbformat": 4,
  "nbformat_minor": 0,
  "metadata": {
    "kernelspec": {
      "display_name": "Python 3",
      "language": "python",
      "name": "python3"
    },
    "language_info": {
      "codemirror_mode": {
        "name": "ipython",
        "version": 3
      },
      "file_extension": ".py",
      "mimetype": "text/x-python",
      "name": "python",
      "nbconvert_exporter": "python",
      "pygments_lexer": "ipython3",
      "version": "3.7.4"
    },
    "colab": {
      "name": "Subjective Assignment - 5 - Numpy 1.ipynb",
      "provenance": [],
      "collapsed_sections": [],
      "include_colab_link": true
    }
  },
  "cells": [
    {
      "cell_type": "markdown",
      "metadata": {
        "id": "view-in-github",
        "colab_type": "text"
      },
      "source": [
        "<a href=\"https://colab.research.google.com/github/mahendravala/Deep-learning-AI-00111-00111D/blob/master/Subjective_Assignment_5_Numpy_1.ipynb\" target=\"_parent\"><img src=\"https://colab.research.google.com/assets/colab-badge.svg\" alt=\"Open In Colab\"/></a>"
      ]
    },
    {
      "cell_type": "markdown",
      "metadata": {
        "id": "PAHxDQpc-ZQF",
        "colab_type": "text"
      },
      "source": [
        "# Assignment"
      ]
    },
    {
      "cell_type": "markdown",
      "metadata": {
        "id": "8AC-wxX5-ZQI",
        "colab_type": "text"
      },
      "source": [
        "Q1. Write the NumPy program to create a 2d array with 6 on the border\n",
        "and 0 inside?\n",
        "\n",
        "    Expected OutputOriginal array-\n",
        "    [ [6 6 6 6 6]\n",
        "     [ 6 6 6 6 6]\n",
        "     [ 6 6 6 6 6 ]\n",
        "    [ 6 6 6 6 6 ]\n",
        "    [ 6 6 6 6 ] ].\n",
        "    6 on the border and 0 inside in the array-\n",
        "    [[ 6 6 6 6 6]\n",
        "    [ 6 0 0 0 6]\n",
        "    [ 6 0 0 0 6]\n",
        "    [ 6 0 0 0 6]\n",
        "    [ 6 6 6 6 6]]."
      ]
    },
    {
      "cell_type": "code",
      "metadata": {
        "id": "yTn0uIN0-ZQM",
        "colab_type": "code",
        "colab": {
          "base_uri": "https://localhost:8080/",
          "height": 221
        },
        "outputId": "a498975c-ca11-48b8-db51-3bd1a549ece6"
      },
      "source": [
        "import numpy as np\n",
        "x = np.ones((5,5))+5\n",
        "print(\"Original array:\")\n",
        "print(x)\n",
        "print(\"6 on the border and 0 inside in the array\")\n",
        "x[1:-1,1:-1] = 0\n",
        "print(x)"
      ],
      "execution_count": 1,
      "outputs": [
        {
          "output_type": "stream",
          "text": [
            "Original array:\n",
            "[[6. 6. 6. 6. 6.]\n",
            " [6. 6. 6. 6. 6.]\n",
            " [6. 6. 6. 6. 6.]\n",
            " [6. 6. 6. 6. 6.]\n",
            " [6. 6. 6. 6. 6.]]\n",
            "6 on the border and 0 inside in the array\n",
            "[[6. 6. 6. 6. 6.]\n",
            " [6. 0. 0. 0. 6.]\n",
            " [6. 0. 0. 0. 6.]\n",
            " [6. 0. 0. 0. 6.]\n",
            " [6. 6. 6. 6. 6.]]\n"
          ],
          "name": "stdout"
        }
      ]
    },
    {
      "cell_type": "markdown",
      "metadata": {
        "id": "vzEsCYxy-ZQQ",
        "colab_type": "text"
      },
      "source": [
        "Q2. Write the NumPy program to create a 8x8 matrix and fill it with the\n",
        "checkerboard pattern?\n",
        "    \n",
        "    Checkerboard pattern-\n",
        "    [[3 9 3 9 3 9 3 9]\n",
        "    [9 3 9 3 9 3 9 3]\n",
        "    [3 9 3 9 3 9 3 9]\n",
        "    [9 3 9 3 9 3 9 3]\n",
        "    [3 9 3 9 3 9 3 9]\n",
        "    [9 3 9 3 9 3 9 3]\n",
        "    [3 9 3 9 3 9 3 9]\n",
        "    [9 3 9 3 9 3 9 3]]."
      ]
    },
    {
      "cell_type": "code",
      "metadata": {
        "id": "964M8-r9-ZQR",
        "colab_type": "code",
        "colab": {
          "base_uri": "https://localhost:8080/",
          "height": 170
        },
        "outputId": "4a3bf129-4eda-4a26-8637-f151ce9a430b"
      },
      "source": [
        "import numpy as np\n",
        "print(\"Checkerboard pattern:\")\n",
        "x = np.zeros((8,8),dtype=int)\n",
        "x[1::2,::2] = 3\n",
        "x[::2,1::2] = 3\n",
        "x[x == 0] = 9\n",
        "print(x)"
      ],
      "execution_count": 48,
      "outputs": [
        {
          "output_type": "stream",
          "text": [
            "Checkerboard pattern:\n",
            "[[9 3 9 3 9 3 9 3]\n",
            " [3 9 3 9 3 9 3 9]\n",
            " [9 3 9 3 9 3 9 3]\n",
            " [3 9 3 9 3 9 3 9]\n",
            " [9 3 9 3 9 3 9 3]\n",
            " [3 9 3 9 3 9 3 9]\n",
            " [9 3 9 3 9 3 9 3]\n",
            " [3 9 3 9 3 9 3 9]]\n"
          ],
          "name": "stdout"
        }
      ]
    },
    {
      "cell_type": "markdown",
      "metadata": {
        "id": "yuOjEEFv-ZQU",
        "colab_type": "text"
      },
      "source": [
        "Q3. Write the NumPy program to create an empty and a full array.\n",
        " \n",
        "     Expected Output-\n",
        "    [[4.45057637e-308 1.78021527e-306 8.45549797e-307 1.37962049e-306]\n",
        "    [1.11260619e-306 1.78010255e-306 9.79054228e-307 4.45057637e-308]\n",
        "    [8.45596650e-307 9.34602321e-307 4.94065646e-322 0.00000000e+000]]\n",
        "    [[6 6 6]\n",
        "    [6 6 6]\n",
        "    [6 6 6]]\n"
      ]
    },
    {
      "cell_type": "code",
      "metadata": {
        "id": "77bSgMiW-ZQV",
        "colab_type": "code",
        "colab": {
          "base_uri": "https://localhost:8080/",
          "height": 119
        },
        "outputId": "8c3241c4-ae18-4d78-e9ba-33830f432be2"
      },
      "source": [
        "import numpy as np\n",
        "# Create an empty array\n",
        "x = np.empty((3,4))\n",
        "print(x)\n",
        "# Create a full array\n",
        "y = np.full((3,3),6)\n",
        "print(y)\n"
      ],
      "execution_count": 52,
      "outputs": [
        {
          "output_type": "stream",
          "text": [
            "[[3.30958055e-316 2.35541533e-312 2.14321575e-312 2.37663529e-312]\n",
            " [2.41907520e-312 2.31297541e-312 2.46151512e-312 2.41907520e-312]\n",
            " [2.44029516e-312 8.27578359e-313 8.70018274e-313 0.00000000e+000]]\n",
            "[[6 6 6]\n",
            " [6 6 6]\n",
            " [6 6 6]]\n"
          ],
          "name": "stdout"
        }
      ]
    },
    {
      "cell_type": "markdown",
      "metadata": {
        "id": "KR6IBr-b-ZQZ",
        "colab_type": "text"
      },
      "source": [
        "Q4. Write the NumPy program to convert the values of Centigrade\n",
        "degrees into the Fahrenheit degrees and the centigrade values are\n",
        "stored in the NumPy array.\n",
        "    \n",
        "    Sample Array -[0, 12, 45.21 ,34, 99.91]\n",
        "    Expected OutputValues in Fahrenheit degrees-\n",
        "    [ 0. 12. 45.21 34. 99.91]\n",
        "    Values in Centigrade degrees-\n",
        "    [-17.77777778 -11.11111111 7.33888889 1.11111111 37.72777778]"
      ]
    },
    {
      "cell_type": "code",
      "metadata": {
        "id": "ds_Qy5du-ZQb",
        "colab_type": "code",
        "colab": {
          "base_uri": "https://localhost:8080/",
          "height": 51
        },
        "outputId": "e18ea90b-66ab-47ba-91ff-fa821fc12b5c"
      },
      "source": [
        "# Formula: (0°F − 32) × 5/9 = -17.78°C\n",
        "import numpy as np\n",
        "sample_array = np.array([0, 12, 45.21 ,34, 99.91], dtype=\"float32\")\n",
        "print(sample_array)\n",
        "sample_output = (sample_array-32) * 5/9 \n",
        "print(sample_output)"
      ],
      "execution_count": 58,
      "outputs": [
        {
          "output_type": "stream",
          "text": [
            "[ 0.   12.   45.21 34.   99.91]\n",
            "[-17.777779  -11.111111    7.338888    1.1111112  37.72778  ]\n"
          ],
          "name": "stdout"
        }
      ]
    },
    {
      "cell_type": "markdown",
      "metadata": {
        "id": "8hrsk-Be-ZQh",
        "colab_type": "text"
      },
      "source": [
        "Q5. Write the NumPy program to find the real and imaginary parts of an\n",
        "array of complex numbers?\n",
        "\n",
        "    Expected OutputOriginal array [ 1.00000000+0.j 0.70710678+0.70710678j]\n",
        "    Real part of the array-\n",
        "    [ 1. 0.70710678]\n",
        "    Imaginary part of the array-\n",
        "    [ 0. 0.70710678]"
      ]
    },
    {
      "cell_type": "code",
      "metadata": {
        "id": "ykHEUeEa-ZQi",
        "colab_type": "code",
        "colab": {
          "base_uri": "https://localhost:8080/",
          "height": 119
        },
        "outputId": "c3e5336e-d597-46d5-9b01-5483e9344801"
      },
      "source": [
        "import numpy as np\n",
        "x = np.sqrt([1+0j])\n",
        "y = np.sqrt([0+1j])\n",
        "print(\"Real part of the array:\")\n",
        "print(x.real)\n",
        "print(y.real)\n",
        "print(\"Imaginary part of the array:\")\n",
        "print(x.imag)\n",
        "print(y.imag)\n"
      ],
      "execution_count": 59,
      "outputs": [
        {
          "output_type": "stream",
          "text": [
            "Real part of the array:\n",
            "[1.]\n",
            "[0.70710678]\n",
            "Imaginary part of the array:\n",
            "[0.]\n",
            "[0.70710678]\n"
          ],
          "name": "stdout"
        }
      ]
    },
    {
      "cell_type": "markdown",
      "metadata": {
        "id": "ICd87KN5-ZQm",
        "colab_type": "text"
      },
      "source": [
        "Q6. Write the NumPy program to test whether each element of a 1-D\n",
        "array is also present in the second array?\n",
        "\n",
        "    Expected OutputArray1: [ 0 10 20 40 60]\n",
        "    Array2: [0, 40]\n",
        "    Compare each element of array1 and array2\n",
        "    [ True False False True False]\n"
      ]
    },
    {
      "cell_type": "code",
      "metadata": {
        "id": "9GM6rBCk-ZQn",
        "colab_type": "code",
        "colab": {
          "base_uri": "https://localhost:8080/",
          "height": 85
        },
        "outputId": "0c3ed84d-1462-4434-b3c0-46be492830af"
      },
      "source": [
        "import numpy as np\n",
        "array1 = np.array([0, 10, 20, 40, 60])\n",
        "print(\"Array1: \",array1)\n",
        "array2 = [0, 40]\n",
        "print(\"Array2: \",array2)\n",
        "print(\"Compare each element of array1 and array2\")\n",
        "print(np.in1d(array1, array2))"
      ],
      "execution_count": 60,
      "outputs": [
        {
          "output_type": "stream",
          "text": [
            "Array1:  [ 0 10 20 40 60]\n",
            "Array2:  [0, 40]\n",
            "Compare each element of array1 and array2\n",
            "[ True False False  True False]\n"
          ],
          "name": "stdout"
        }
      ]
    },
    {
      "cell_type": "markdown",
      "metadata": {
        "id": "fstdKSVb-ZQr",
        "colab_type": "text"
      },
      "source": [
        "Q7. Write the NumPy program to find common values between two\n",
        "arrays?\n",
        "    \n",
        "    Expected OutputArray1: [ 0 10 20 40 60]\n",
        "    Array2: [10, 30, 40]\n",
        "    Common values between two arrays-\n",
        "    [10 40]"
      ]
    },
    {
      "cell_type": "code",
      "metadata": {
        "id": "iOXChI8S-ZQt",
        "colab_type": "code",
        "colab": {
          "base_uri": "https://localhost:8080/",
          "height": 85
        },
        "outputId": "9a6a4e1a-ebf6-4ccb-e79f-a8e016226f8e"
      },
      "source": [
        "import numpy as np\n",
        "array1 = np.array([0, 10, 20, 40, 60])\n",
        "print(\"Array1: \",array1)\n",
        "array2 = [10, 30, 40]\n",
        "print(\"Array2: \",array2)\n",
        "print(\"Common values between two arrays-\")\n",
        "print(array1[np.in1d(array1, array2)])"
      ],
      "execution_count": 62,
      "outputs": [
        {
          "output_type": "stream",
          "text": [
            "Array1:  [ 0 10 20 40 60]\n",
            "Array2:  [10, 30, 40]\n",
            "Common values between two arrays-\n",
            "[10 40]\n"
          ],
          "name": "stdout"
        }
      ]
    },
    {
      "cell_type": "markdown",
      "metadata": {
        "id": "NG-IJM9C-ZQy",
        "colab_type": "text"
      },
      "source": [
        "Q8. Write the NumPy program to get the unique elements of an array?\n",
        "\n",
        "    Expected OutputOriginal array-\n",
        "    [10 10 20 20 30 30]\n",
        "    Unique elements of the above array-\n",
        "    [10 20 30]\n",
        "    P a g e 14 | 44\n",
        "    Original array-\n",
        "    [[1 1]\n",
        "    [2 3]]\n",
        "    Unique elements of the above array-\n",
        "    [1 2 3]"
      ]
    },
    {
      "cell_type": "code",
      "metadata": {
        "id": "Cfr1zb8Z-ZQ0",
        "colab_type": "code",
        "colab": {
          "base_uri": "https://localhost:8080/",
          "height": 170
        },
        "outputId": "9ad0deff-8c7a-47ee-8a97-17140ec2a4fe"
      },
      "source": [
        "import numpy as np\n",
        "array1 = np.array([10, 10, 20, 20, 30, 30])\n",
        "print(\"Original array:\")\n",
        "print(array1)\n",
        "print(\"Unique elements of the above array:\")\n",
        "print(np.unique(array1))\n",
        "array2 = np.array([[1, 1], [2, 3]])\n",
        "print(\"Original array:\")\n",
        "print(array2)\n",
        "print(\"Unique elements of the above array:\")\n",
        "print(np.unique(array2))\n"
      ],
      "execution_count": 65,
      "outputs": [
        {
          "output_type": "stream",
          "text": [
            "Original array:\n",
            "[10 10 20 20 30 30]\n",
            "Unique elements of the above array:\n",
            "[10 20 30]\n",
            "Original array:\n",
            "[[1 1]\n",
            " [2 3]]\n",
            "Unique elements of the above array:\n",
            "[1 2 3]\n"
          ],
          "name": "stdout"
        }
      ]
    },
    {
      "cell_type": "markdown",
      "metadata": {
        "id": "f7ANAG6b-ZQ6",
        "colab_type": "text"
      },
      "source": [
        "Q9. Write the NumPy program to find the set exclusive-or of two arrays.\n",
        "Set exclusive-or will return the sorted, unique values that are in\n",
        "only one (not both) of the input arrays?\n",
        "\n",
        "    Array1- [ 0 10 20 40 60 80]\n",
        "    Array2- [10, 30, 40, 50, 70]\n",
        "    Unique values that are in only one (not both) of the input arrays-\n",
        "    [ 0 20 30 50 60 70 80]"
      ]
    },
    {
      "cell_type": "code",
      "metadata": {
        "id": "5oouX3cw-ZQ8",
        "colab_type": "code",
        "colab": {
          "base_uri": "https://localhost:8080/",
          "height": 85
        },
        "outputId": "770cf0eb-4227-4933-ba83-b5d9e782b444"
      },
      "source": [
        "import numpy as np\n",
        "array1 = np.array([0, 10, 20, 40, 60, 80])\n",
        "print(\"Array1: \",array1)\n",
        "array2 = [10, 30, 40, 50, 70]\n",
        "print(\"Array2: \",array2)\n",
        "print(\"Unique values that are in only one (not both) of the input arrays-\")\n",
        "m1 = np.setdiff1d(array1, array2)\n",
        "m2 = np.setdiff1d(array2, array1)\n",
        "unique = np.concatenate((m1,m2))\n",
        "print(unique)\n"
      ],
      "execution_count": 76,
      "outputs": [
        {
          "output_type": "stream",
          "text": [
            "Array1:  [ 0 10 20 40 60 80]\n",
            "Array2:  [10, 30, 40, 50, 70]\n",
            "Unique values that are in only one (not both) of the input arrays-\n",
            "[ 0 20 60 80 30 50 70]\n"
          ],
          "name": "stdout"
        }
      ]
    },
    {
      "cell_type": "markdown",
      "metadata": {
        "id": "iYiBjd6N-ZRA",
        "colab_type": "text"
      },
      "source": [
        "Q10. Write the NumPy program to test if all elements in an array\n",
        "evaluate to True ?\n",
        " \n",
        "Note: 0 evaluates to False in NumPy"
      ]
    },
    {
      "cell_type": "code",
      "metadata": {
        "id": "WFcS_uLP-ZRB",
        "colab_type": "code",
        "colab": {
          "base_uri": "https://localhost:8080/",
          "height": 85
        },
        "outputId": "7e698f99-f6ff-4471-d503-12cfc9785f92"
      },
      "source": [
        "import numpy as np\n",
        "print(np.all([[True,False],[True,True]]))\n",
        "print(np.all([]))\n",
        "print(np.all([10, 20, 0, -50]))\n",
        "print(np.all([10, 20, -50]))\n"
      ],
      "execution_count": 84,
      "outputs": [
        {
          "output_type": "stream",
          "text": [
            "False\n",
            "True\n",
            "False\n",
            "True\n"
          ],
          "name": "stdout"
        }
      ]
    },
    {
      "cell_type": "markdown",
      "metadata": {
        "id": "A77bbTOK-ZRE",
        "colab_type": "text"
      },
      "source": [
        "Q11. Write the NumPy program to test whether any array element along\n",
        "the given axis evaluates to True?\n",
        " \n",
        "Note: 0 evaluates to False in NumPy"
      ]
    },
    {
      "cell_type": "code",
      "metadata": {
        "id": "wu9H3vVu-ZRF",
        "colab_type": "code",
        "colab": {
          "base_uri": "https://localhost:8080/",
          "height": 85
        },
        "outputId": "5295b3e7-7a15-4d32-8a62-c526a7148c8f"
      },
      "source": [
        "import numpy as np\n",
        "print(np.any([[True,False],[True,True]]))\n",
        "print(np.any([]))\n",
        "print(np.any([10, 20, 0, -50]))\n",
        "print(np.any([10, 20, -50]))\n"
      ],
      "execution_count": 85,
      "outputs": [
        {
          "output_type": "stream",
          "text": [
            "True\n",
            "False\n",
            "True\n",
            "True\n"
          ],
          "name": "stdout"
        }
      ]
    },
    {
      "cell_type": "markdown",
      "metadata": {
        "id": "27KOJtnz-ZRK",
        "colab_type": "text"
      },
      "source": [
        "Q12. Write the NumPy program to construct an array by repeating?\n",
        "\n",
        "    Sample array- [1, 2, 3, 4]\n",
        "    Expected OutputOriginal array\n",
        "    [1, 2, 3, 4]\n",
        "    Repeating 2 times\n",
        "    [1 2 3 4 1 2 3 4]\n",
        "    Repeating 3 times\n",
        "    [1 2 3 4 1 2 3 4 1 2 3 4]"
      ]
    },
    {
      "cell_type": "code",
      "metadata": {
        "id": "IPb_p-ZO-ZRL",
        "colab_type": "code",
        "colab": {
          "base_uri": "https://localhost:8080/",
          "height": 34
        },
        "outputId": "9fe04016-0e67-426d-bbc7-2295b890cfa4"
      },
      "source": [
        "import numpy as np\n",
        "def repeating(sample_array, n = 1):\n",
        "    return np.tile(sample_array,n)\n",
        "\n",
        "sample_array = np.array([1, 2, 3, 4])\n",
        "repeating(sample_array,2)"
      ],
      "execution_count": 91,
      "outputs": [
        {
          "output_type": "execute_result",
          "data": {
            "text/plain": [
              "array([1, 2, 3, 4, 1, 2, 3, 4])"
            ]
          },
          "metadata": {
            "tags": []
          },
          "execution_count": 91
        }
      ]
    },
    {
      "cell_type": "markdown",
      "metadata": {
        "id": "jDhpWS_K-ZRP",
        "colab_type": "text"
      },
      "source": [
        "Q13. Write the NumPy program to find the indices of the maximum and\n",
        "minimum values with the given axis of an array?\n",
        "\n",
        "    Original array- [1 2 3 4 5 6]\n",
        "    Maximum Values- 5\n",
        "    Minimum Values- 0"
      ]
    },
    {
      "cell_type": "code",
      "metadata": {
        "id": "rEej4RXv-ZRQ",
        "colab_type": "code",
        "colab": {
          "base_uri": "https://localhost:8080/",
          "height": 51
        },
        "outputId": "0e4c4a62-1c00-4032-f8b8-1827e7b9ba5f"
      },
      "source": [
        "import numpy as np\n",
        "def find_max(sample_array):\n",
        "    return np.argmax(sample_array)\n",
        "\n",
        "def find_min(sample_array):\n",
        "    return np.argmin(sample_array)\n",
        "\n",
        "sample_array = np.array([1, 2, 3, 4, 5, 6])\n",
        "print(find_max(sample_array))\n",
        "print(find_min(sample_array))"
      ],
      "execution_count": 95,
      "outputs": [
        {
          "output_type": "stream",
          "text": [
            "5\n",
            "0\n"
          ],
          "name": "stdout"
        }
      ]
    },
    {
      "cell_type": "markdown",
      "metadata": {
        "id": "OPxPkwlR-ZRU",
        "colab_type": "text"
      },
      "source": [
        "Q14. Write the NumPy program compare two arrays using numpy?\n",
        "\n",
        "    Array a- [1 2]\n",
        "    Array b- [4 5]\n",
        "    a > b\n",
        "    [False False]\n",
        "    a >= b\n",
        "    [False False]\n",
        "    a < b\n",
        "    [ True True]\n",
        "    a <= b\n",
        "    [ True True]\n"
      ]
    },
    {
      "cell_type": "code",
      "metadata": {
        "id": "Lrd0Q-cu-ZRV",
        "colab_type": "code",
        "colab": {
          "base_uri": "https://localhost:8080/",
          "height": 153
        },
        "outputId": "3b947327-1e22-4cf1-e188-deb854227ef8"
      },
      "source": [
        "import numpy as np\n",
        "array_a = np.array([1, 2])\n",
        "array_b = np.array([4, 5])\n",
        "print(\"a > b\")\n",
        "print(np.greater(array_a, array_b))\n",
        "print(\"a >= b\")\n",
        "print(np.greater_equal(array_a, array_b))\n",
        "print(\"a < b\")\n",
        "print(np.less(array_a, array_b))\n",
        "print(\"a <= b\")\n",
        "print(np.less_equal(array_a, array_b))\n"
      ],
      "execution_count": 99,
      "outputs": [
        {
          "output_type": "stream",
          "text": [
            "a > b\n",
            "[False False]\n",
            "a >= b\n",
            "[False False]\n",
            "a < b\n",
            "[ True  True]\n",
            "a <= b\n",
            "[ True  True]\n"
          ],
          "name": "stdout"
        }
      ]
    },
    {
      "cell_type": "markdown",
      "metadata": {
        "id": "neVyGG4R-ZRZ",
        "colab_type": "text"
      },
      "source": [
        "Q15. Write the NumPy program to sort an along the first, last axis of an\n",
        "array?\n",
        "\n",
        "    Sample array- [[2,5],[4,4]]\n",
        "    Expected OutputOriginal array:\n",
        "    [[4 6]\n",
        "    [2 1]]\n",
        "    Sort along the first axis:\n",
        "    [[2 1]\n",
        "    [4 6]]\n",
        "    Sort along the last axis-\n",
        "    [[1 2]\n",
        "    [4 6]]"
      ]
    },
    {
      "cell_type": "code",
      "metadata": {
        "id": "JfSp77uF-ZRa",
        "colab_type": "code",
        "colab": {
          "base_uri": "https://localhost:8080/",
          "height": 85
        },
        "outputId": "4e5aa7c1-2dbc-4140-fe44-5ee1ad75887f"
      },
      "source": [
        "sample_array = np.array([[2,5],[4,4]])\n",
        "print(np.sort(sample_array, axis=0))\n",
        "print(np.sort(sample_array, axis=1))"
      ],
      "execution_count": 104,
      "outputs": [
        {
          "output_type": "stream",
          "text": [
            "[[2 4]\n",
            " [4 5]]\n",
            "[[2 5]\n",
            " [4 4]]\n"
          ],
          "name": "stdout"
        }
      ]
    },
    {
      "cell_type": "markdown",
      "metadata": {
        "id": "ROgQCzv4-ZRd",
        "colab_type": "text"
      },
      "source": [
        "Q16. Write the NumPy program to sort pairs of first name and last name\n",
        "return their indices (first by last name, then by first name).\n",
        "\n",
        "    first_names - ( Betsey, Shelley, Lanell, Genesis, Margery )\n",
        "    last_names - ( Battle, Brien, Plotner, Stahl, Woolum )\n",
        "    Expected Output-\n",
        "    [1 3 2 4 0]"
      ]
    },
    {
      "cell_type": "code",
      "metadata": {
        "id": "_keyCbbF-ZRf",
        "colab_type": "code",
        "colab": {
          "base_uri": "https://localhost:8080/",
          "height": 34
        },
        "outputId": "61c9930d-5a8f-4e73-a5c3-c580977af3e9"
      },
      "source": [
        "import numpy as np\n",
        "first_names = ( \"Betsey\", \"Shelley\", \"Lanell\", \"Genesis\", \"Margery\" )\n",
        "last_names = ( \"Battle\", \"Brien\", \"Plotner\", \"Stahl\", \"Woolum\" )\n",
        "x = np.lexsort((first_names, last_names))\n",
        "print(x)"
      ],
      "execution_count": 109,
      "outputs": [
        {
          "output_type": "stream",
          "text": [
            "[0 1 2 3 4]\n"
          ],
          "name": "stdout"
        }
      ]
    },
    {
      "cell_type": "markdown",
      "metadata": {
        "id": "F-PWeZKT-ZRj",
        "colab_type": "text"
      },
      "source": [
        "Q17. Write the NumPy program to get the values and indices of the\n",
        "elements that are bigger than 10 in the given array?\n",
        "\n",
        "    Original array-\n",
        "    [[ 0 10 20]\n",
        "    [20 30 40]]\n",
        "    Values bigger than 10 = [20 20 30 40]\n",
        "    Their indices are (array([0, 1, 1, 1]), array([2, 0, 1, 2]))"
      ]
    },
    {
      "cell_type": "code",
      "metadata": {
        "id": "-WgmCgy3-ZRk",
        "colab_type": "code",
        "colab": {
          "base_uri": "https://localhost:8080/",
          "height": 51
        },
        "outputId": "29f6d6d7-8a51-4e28-f84c-4070858d4b6e"
      },
      "source": [
        "import numpy as np\n",
        "x = np.array([[0, 10, 20], [20, 30, 40]])\n",
        "print(\"Values bigger than 10 =\", x[x>10])\n",
        "print(\"Their indices are \", np.nonzero(x > 10))\n"
      ],
      "execution_count": 110,
      "outputs": [
        {
          "output_type": "stream",
          "text": [
            "Values bigger than 10 = [20 20 30 40]\n",
            "Their indices are  (array([0, 1, 1, 1]), array([2, 0, 1, 2]))\n"
          ],
          "name": "stdout"
        }
      ]
    },
    {
      "cell_type": "markdown",
      "metadata": {
        "id": "MYa_sbkd-ZRn",
        "colab_type": "text"
      },
      "source": [
        "Q18. Write the NumPy program to find the memory size of a NumPy\n",
        "array?\n",
        "\n",
        "    Expected Output128 bytes\n"
      ]
    },
    {
      "cell_type": "code",
      "metadata": {
        "id": "-OcBBXLT-ZRo",
        "colab_type": "code",
        "colab": {
          "base_uri": "https://localhost:8080/",
          "height": 34
        },
        "outputId": "45a8996b-845e-49fd-dee4-8d52db8f4538"
      },
      "source": [
        "import numpy as np\n",
        "n = np.ones((4,4))\n",
        "print(\"%d bytes\" % (n.size * n.itemsize))"
      ],
      "execution_count": 112,
      "outputs": [
        {
          "output_type": "stream",
          "text": [
            "128 bytes\n"
          ],
          "name": "stdout"
        }
      ]
    },
    {
      "cell_type": "code",
      "metadata": {
        "id": "weJbYNbDKjxq",
        "colab_type": "code",
        "colab": {
          "base_uri": "https://localhost:8080/",
          "height": 34
        },
        "outputId": "b9e8a26f-dad1-430f-e19d-837fe8814387"
      },
      "source": [
        "print (\"Jai Hind\")"
      ],
      "execution_count": 113,
      "outputs": [
        {
          "output_type": "stream",
          "text": [
            "Jai Hind\n"
          ],
          "name": "stdout"
        }
      ]
    },
    {
      "cell_type": "markdown",
      "metadata": {
        "id": "RmmR8su8-ZRr",
        "colab_type": "text"
      },
      "source": [
        "## Great Job!"
      ]
    }
  ]
}